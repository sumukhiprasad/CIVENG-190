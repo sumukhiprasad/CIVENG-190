{
 "cells": [
  {
   "cell_type": "markdown",
   "id": "0a6f3cbb",
   "metadata": {},
   "source": [
    "# [CIVENG190] Notebook 4: Coastal Resilience\n",
    "\n",
    "<br>\n",
    "\n",
    "**Estimated Time:** ~60 minutes <br>\n",
    "**Notebook Developed By:** Skye Pickett, Abigail Yu, Lori Khashaki, and Vishali Vallioor  <br>\n",
    "\n",
    "Today we'll be exploring coastal resilience in the topic of flooding and how it affects different communities. Sea level is projected to increase, which may have the potential of affecting millions of individuals. Different impacts are studied through different data analysis techniques in this notebook, with a particular focus on coastal communities in the San Francisco Bay Area.\n",
    "\n",
    "### Learning Outcomes\n",
    "\n",
    "In this notebook, you will learn about:\n",
    "* Data Pre-Processing/Cleaning\n",
    "* One-Hot Encoding\n",
    "* Developing a K-Nearest Neighbors Classification Algorithm\n",
    "* Using kNN to Simulate Classification in Dr. Hummel's Paper\n",
    "* Creating Visualizations for K-Nearest Neighbors\n",
    "* Comparing Clustering Techniques\n",
    "* Visual Prediction\n",
    "\n",
    "\n",
    "### Table of Contents\n",
    "1. [Introduction to the Data](#0) <br>\n",
    "1. [Preparing the Data](#1) <br>\n",
    "1. [Comparing Demographics to Sea Level Rise (SLR)](#2) <br>\n",
    "1. [K-Nearest Neighbors](#3) <br>\n",
    "1. [SLR vs. Number of Residents](#4) <br>\n",
    "1. [Conclusion](#5) <br>\n",
    "1. [Explore Data Science Opportunities](#6)<br>\n",
    "1. [Feedback Form](#9)<br>\n",
    "\n",
    "-------------------------------------------------------------------"
   ]
  },
  {
   "cell_type": "code",
   "execution_count": 10,
   "id": "90bbd5b4",
   "metadata": {},
   "outputs": [
    {
     "name": "stdout",
     "output_type": "stream",
     "text": [
      "All necessary packages have been imported!\n"
     ]
    }
   ],
   "source": [
    "import numpy as np\n",
    "import pandas as pd\n",
    "import folium\n",
    "import ipywidgets as widgets\n",
    "from IPython.display import display, HTML\n",
    "import datascience\n",
    "from sklearn.model_selection import train_test_split\n",
    "from scipy.spatial import distance\n",
    "\n",
    "import matplotlib.pyplot as plt\n",
    "%matplotlib inline\n",
    "plt.style.use('fivethirtyeight')\n",
    "import seaborn as sns\n",
    "print(\"All necessary packages have been imported!\")"
   ]
  },
  {
   "cell_type": "markdown",
   "id": "9547d777",
   "metadata": {
    "tags": []
   },
   "source": [
    "# 1. Introduction to the Data <a id='0'></a>\n",
    "\n",
    "As mentioned in the notebook overview, we will be utilizing data analysis methods to explore the coastal resilience among communities in the San Francisco Bay Area. For further reading, feel free to check out the paper this notebook is based on: [*Clusters of community exposure to coastal flooding* by Dr. Hummel](https://drive.google.com/file/d/1i4Q5dswdnIRLlW63SnalzCULNAx0avYq/view?usp=sharing)."
   ]
  },
  {
   "cell_type": "markdown",
   "id": "468546cd",
   "metadata": {},
   "source": [
    "### 1.1 Introducing Our Topic\n",
    "\n",
    "#### Dr. Hummel's Paper\n",
    "\n",
    "Our notebook is heavily inspired by the methods and techniques outlined in Dr. Hummel's paper in our exploration of coastal resilience. The paper primarily centers its analysis on 63 jurisdictions in the San Francisco Bay Area, using demographic data and effectors to sea level rise and developing an effective statistical cluster analysis model. Cluster analysis proves to be effective, which we will see and demonstrate in today's notebook."
   ]
  },
  {
   "cell_type": "markdown",
   "id": "96f01b47",
   "metadata": {},
   "source": [
    "#### This analysis utilizes demographic data from citizens in these individual counties. What demographic variables do you think would be useful in our analysis?"
   ]
  },
  {
   "cell_type": "markdown",
   "id": "1b82f1c7",
   "metadata": {},
   "source": [
    "***Replace this with your answer*** (double-click to edit)"
   ]
  },
  {
   "cell_type": "markdown",
   "id": "e064129b",
   "metadata": {},
   "source": [
    "\n",
    "### 1.2 The Dataset"
   ]
  },
  {
   "cell_type": "markdown",
   "id": "5b1f0724",
   "metadata": {},
   "source": [
    "The dataset we will be primarily using today is the same one used in Dr. Hummel's research. The dataset contains different rows detailing data on various communities' impact by rising sea levels. In the following cells, we will be able to see how this table looks and works, and how we can manipulate it by developing clusters to analyze further. Hummel's paper uses the [PAM Algorithm](https://en.wikibooks.org/wiki/Data_Mining_Algorithms_In_R/Clustering/Partitioning_Around_Medoids_(PAM)), and we will be using something similar to it known as the K-Nearest Neigbors classifier."
   ]
  },
  {
   "cell_type": "markdown",
   "id": "373709f5",
   "metadata": {
    "tags": []
   },
   "source": [
    "# 2. Preparing the Data <a id='1'></a>\n"
   ]
  },
  {
   "cell_type": "markdown",
   "id": "5e4e5850",
   "metadata": {},
   "source": [
    "Now we will be importing and seeing the traits and variables of our dataset."
   ]
  },
  {
   "cell_type": "markdown",
   "id": "b5194738",
   "metadata": {},
   "source": [
    "### 2.1 Reading in the Data\n",
    "\n",
    "Our dataset, titled \"Bay Area Results\", is from a US geological survey data release. In fact, here is an [interactive tool](https://www.usgs.gov/apps/hera/floodTool.php) based on the same dataset from the USGS. If you zoom into the San Francisco Bay Area and toggle settings on the left, you can see in blue the communities affected by coastal flooding. The primary purpose of the USGS is to study the natural resources and hazards of the United States.\n",
    "\n",
    "\n",
    "The command `pd.read_csv` allows us to read and load our csv file and `.head()` gives us the first 5 rows of the dataset. Run the code cell below to load the data that we will be using for analysis."
   ]
  },
  {
   "cell_type": "code",
   "execution_count": 11,
   "id": "dbda4b25",
   "metadata": {},
   "outputs": [
    {
     "data": {
      "text/html": [
       "<div>\n",
       "<style scoped>\n",
       "    .dataframe tbody tr th:only-of-type {\n",
       "        vertical-align: middle;\n",
       "    }\n",
       "\n",
       "    .dataframe tbody tr th {\n",
       "        vertical-align: top;\n",
       "    }\n",
       "\n",
       "    .dataframe thead th {\n",
       "        text-align: right;\n",
       "    }\n",
       "</style>\n",
       "<table border=\"1\" class=\"dataframe\">\n",
       "  <thead>\n",
       "    <tr style=\"text-align: right;\">\n",
       "      <th></th>\n",
       "      <th>Geo_Order</th>\n",
       "      <th>OBJECTID</th>\n",
       "      <th>Community</th>\n",
       "      <th>County</th>\n",
       "      <th>Res_N_0</th>\n",
       "      <th>Res_N_50</th>\n",
       "      <th>Res_N_100</th>\n",
       "      <th>Res_N_150</th>\n",
       "      <th>Res_P_0</th>\n",
       "      <th>Res_P_50</th>\n",
       "      <th>...</th>\n",
       "      <th>FS_N_100</th>\n",
       "      <th>FS_N_150</th>\n",
       "      <th>SC_N_0</th>\n",
       "      <th>SC_N_50</th>\n",
       "      <th>SC_N_100</th>\n",
       "      <th>SC_N_150</th>\n",
       "      <th>MED_N_0</th>\n",
       "      <th>MED_N_50</th>\n",
       "      <th>MED_N_100</th>\n",
       "      <th>MED_N_150</th>\n",
       "    </tr>\n",
       "  </thead>\n",
       "  <tbody>\n",
       "    <tr>\n",
       "      <th>0</th>\n",
       "      <td>34</td>\n",
       "      <td>1</td>\n",
       "      <td>Alameda</td>\n",
       "      <td>Alameda County</td>\n",
       "      <td>0</td>\n",
       "      <td>185</td>\n",
       "      <td>1706</td>\n",
       "      <td>9028</td>\n",
       "      <td>0.0</td>\n",
       "      <td>0.0</td>\n",
       "      <td>...</td>\n",
       "      <td>0</td>\n",
       "      <td>0</td>\n",
       "      <td>0</td>\n",
       "      <td>0</td>\n",
       "      <td>0</td>\n",
       "      <td>4</td>\n",
       "      <td>0</td>\n",
       "      <td>0</td>\n",
       "      <td>0</td>\n",
       "      <td>0</td>\n",
       "    </tr>\n",
       "    <tr>\n",
       "      <th>1</th>\n",
       "      <td>30</td>\n",
       "      <td>2</td>\n",
       "      <td>Albany</td>\n",
       "      <td>Alameda County</td>\n",
       "      <td>0</td>\n",
       "      <td>0</td>\n",
       "      <td>0</td>\n",
       "      <td>0</td>\n",
       "      <td>0.0</td>\n",
       "      <td>0.0</td>\n",
       "      <td>...</td>\n",
       "      <td>0</td>\n",
       "      <td>0</td>\n",
       "      <td>0</td>\n",
       "      <td>0</td>\n",
       "      <td>0</td>\n",
       "      <td>0</td>\n",
       "      <td>0</td>\n",
       "      <td>0</td>\n",
       "      <td>0</td>\n",
       "      <td>0</td>\n",
       "    </tr>\n",
       "    <tr>\n",
       "      <th>2</th>\n",
       "      <td>31</td>\n",
       "      <td>3</td>\n",
       "      <td>Berkeley</td>\n",
       "      <td>Alameda County</td>\n",
       "      <td>0</td>\n",
       "      <td>0</td>\n",
       "      <td>1</td>\n",
       "      <td>5</td>\n",
       "      <td>0.0</td>\n",
       "      <td>0.0</td>\n",
       "      <td>...</td>\n",
       "      <td>0</td>\n",
       "      <td>0</td>\n",
       "      <td>0</td>\n",
       "      <td>0</td>\n",
       "      <td>0</td>\n",
       "      <td>0</td>\n",
       "      <td>0</td>\n",
       "      <td>0</td>\n",
       "      <td>0</td>\n",
       "      <td>0</td>\n",
       "    </tr>\n",
       "    <tr>\n",
       "      <th>3</th>\n",
       "      <td>32</td>\n",
       "      <td>4</td>\n",
       "      <td>Emeryville</td>\n",
       "      <td>Alameda County</td>\n",
       "      <td>0</td>\n",
       "      <td>94</td>\n",
       "      <td>117</td>\n",
       "      <td>146</td>\n",
       "      <td>0.0</td>\n",
       "      <td>0.0</td>\n",
       "      <td>...</td>\n",
       "      <td>0</td>\n",
       "      <td>0</td>\n",
       "      <td>0</td>\n",
       "      <td>0</td>\n",
       "      <td>0</td>\n",
       "      <td>0</td>\n",
       "      <td>0</td>\n",
       "      <td>0</td>\n",
       "      <td>0</td>\n",
       "      <td>0</td>\n",
       "    </tr>\n",
       "    <tr>\n",
       "      <th>4</th>\n",
       "      <td>38</td>\n",
       "      <td>5</td>\n",
       "      <td>Fremont</td>\n",
       "      <td>Alameda County</td>\n",
       "      <td>0</td>\n",
       "      <td>0</td>\n",
       "      <td>0</td>\n",
       "      <td>0</td>\n",
       "      <td>0.0</td>\n",
       "      <td>0.0</td>\n",
       "      <td>...</td>\n",
       "      <td>0</td>\n",
       "      <td>0</td>\n",
       "      <td>0</td>\n",
       "      <td>0</td>\n",
       "      <td>0</td>\n",
       "      <td>0</td>\n",
       "      <td>0</td>\n",
       "      <td>0</td>\n",
       "      <td>0</td>\n",
       "      <td>0</td>\n",
       "    </tr>\n",
       "  </tbody>\n",
       "</table>\n",
       "<p>5 rows × 44 columns</p>\n",
       "</div>"
      ],
      "text/plain": [
       "   Geo_Order  OBJECTID   Community          County  Res_N_0  Res_N_50  \\\n",
       "0         34         1     Alameda  Alameda County        0       185   \n",
       "1         30         2      Albany  Alameda County        0         0   \n",
       "2         31         3    Berkeley  Alameda County        0         0   \n",
       "3         32         4  Emeryville  Alameda County        0        94   \n",
       "4         38         5     Fremont  Alameda County        0         0   \n",
       "\n",
       "   Res_N_100  Res_N_150  Res_P_0  Res_P_50  ...  FS_N_100  FS_N_150  SC_N_0  \\\n",
       "0       1706       9028      0.0       0.0  ...         0         0       0   \n",
       "1          0          0      0.0       0.0  ...         0         0       0   \n",
       "2          1          5      0.0       0.0  ...         0         0       0   \n",
       "3        117        146      0.0       0.0  ...         0         0       0   \n",
       "4          0          0      0.0       0.0  ...         0         0       0   \n",
       "\n",
       "   SC_N_50  SC_N_100  SC_N_150  MED_N_0  MED_N_50  MED_N_100  MED_N_150  \n",
       "0        0         0         4        0         0          0          0  \n",
       "1        0         0         0        0         0          0          0  \n",
       "2        0         0         0        0         0          0          0  \n",
       "3        0         0         0        0         0          0          0  \n",
       "4        0         0         0        0         0          0          0  \n",
       "\n",
       "[5 rows x 44 columns]"
      ]
     },
     "execution_count": 11,
     "metadata": {},
     "output_type": "execute_result"
    }
   ],
   "source": [
    "# This cell will read in the necessary data sets. Run it and take a look at the dataframe / table below!\n",
    "county_sea_levels = pd.read_csv('datasets/BayAreaResults.csv').drop(columns=['Unnamed: 44', 'Unnamed: 45', 'Group', 'Indicator', 'Code', 'Explanation']) # reads csv file and loads it\n",
    "county_sea_levels.head()"
   ]
  },
  {
   "cell_type": "markdown",
   "id": "46565f8f-430e-4cc1-9e43-e55ff33d6e6b",
   "metadata": {},
   "source": [
    "**Let's take a look at what variables we have:**"
   ]
  },
  {
   "cell_type": "code",
   "execution_count": 12,
   "id": "cd8b6b0d-3def-4efd-b61f-c554a9536fbd",
   "metadata": {},
   "outputs": [
    {
     "data": {
      "text/plain": [
       "array(['Geo_Order', 'OBJECTID', 'Community', 'County', 'Res_N_0',\n",
       "       'Res_N_50', 'Res_N_100', 'Res_N_150', 'Res_P_0', 'Res_P_50',\n",
       "       'Res_P_100', 'Res_P_150', 'Emp_N_0', 'Emp_N_50', 'Emp_N_100',\n",
       "       'Emp_N_150', 'Emp_P_0', 'Emp_P_50', 'Emp_P_100', 'Emp_P_150',\n",
       "       'HW_L_0', 'HW_L_50', 'HW_L_100', 'HW_L_150', 'RR_L_0', 'RR_L_50',\n",
       "       'RR_L_100', 'RR_L_150', 'PS_N_0', 'PS_N_50', 'PS_N_100', 'PS_N_150',\n",
       "       'FS_N_0', 'FS_N_50', 'FS_N_100', 'FS_N_150', 'SC_N_0', 'SC_N_50',\n",
       "       'SC_N_100', 'SC_N_150', 'MED_N_0', 'MED_N_50', 'MED_N_100',\n",
       "       'MED_N_150'], dtype=object)"
      ]
     },
     "execution_count": 12,
     "metadata": {},
     "output_type": "execute_result"
    }
   ],
   "source": [
    "county_sea_levels.columns.values"
   ]
  },
  {
   "cell_type": "markdown",
   "id": "5bcf5b41-5671-4a07-b803-7108d3343a18",
   "metadata": {},
   "source": [
    "**For this notebook we will be primarly be working with these variables:** As you can see, the column \"Res_N_50\" would be the number of residents in a certain community with 50 cm of sea level rise. The column \"Res_P_50\" would represent the percent of residents in this community with 50 cm of sea level rise. Looking back at our dataset, this would mean that for Alameda, there were 185 residents experiencing 50 cm of sea level rise and 0.0% of residents experiencing 50 cm of sea level rise. We can attribute this low percentage to the high population in Alamenda County as a whole."
   ]
  },
  {
   "cell_type": "markdown",
   "id": "10e8d332-655c-48a7-81df-12ed960f545a",
   "metadata": {},
   "source": [
    "Variable | Description\n",
    "----|----\n",
    "Res_N_0 | Residents in zone with 0 SLR\n",
    "Res_N_50  | Residents in zone with 50 SLR\n",
    "Res_N_100 | Residents in zone with 100 SLR\n",
    "Res_N_150 | Residents in zone with 150 SLR\n",
    "Res_P_0 | Resident % in zone with 0 SLR\n",
    "Res_P_50 | Resident % in zone with 50 SLR\n",
    "Res_P_100 | Resident % in zone with 100 SLR\n",
    "Res_P_150 | Resident % in zone with 150 SLR"
   ]
  },
  {
   "cell_type": "markdown",
   "id": "9fb237e4-2b61-42b8-91a0-a167b0dd0308",
   "metadata": {},
   "source": [
    "*Note that SLR stands for Sea Level Rise!"
   ]
  },
  {
   "cell_type": "markdown",
   "id": "7387311f",
   "metadata": {},
   "source": [
    "> Our dataset, as you can see, contains a lot of 0.0/0 values and it may be useful to use data pre-processing here."
   ]
  },
  {
   "cell_type": "markdown",
   "id": "a651bd0b",
   "metadata": {},
   "source": [
    "### 2.2 Cleaning the Data/EDA"
   ]
  },
  {
   "cell_type": "markdown",
   "id": "bed93b29-0bd6-4502-b467-1fa22c161c8b",
   "metadata": {},
   "source": [
    "**Let's see how many different counties there are and how many communities are in each county:**"
   ]
  },
  {
   "cell_type": "code",
   "execution_count": 13,
   "id": "ca83242c-0da4-4446-9fc1-1afeda56684e",
   "metadata": {},
   "outputs": [
    {
     "data": {
      "text/html": [
       "<div>\n",
       "<style scoped>\n",
       "    .dataframe tbody tr th:only-of-type {\n",
       "        vertical-align: middle;\n",
       "    }\n",
       "\n",
       "    .dataframe tbody tr th {\n",
       "        vertical-align: top;\n",
       "    }\n",
       "\n",
       "    .dataframe thead th {\n",
       "        text-align: right;\n",
       "    }\n",
       "</style>\n",
       "<table border=\"1\" class=\"dataframe\">\n",
       "  <thead>\n",
       "    <tr style=\"text-align: right;\">\n",
       "      <th></th>\n",
       "      <th>County</th>\n",
       "      <th>count</th>\n",
       "    </tr>\n",
       "  </thead>\n",
       "  <tbody>\n",
       "    <tr>\n",
       "      <th>0</th>\n",
       "      <td>Alameda County</td>\n",
       "      <td>11</td>\n",
       "    </tr>\n",
       "    <tr>\n",
       "      <th>1</th>\n",
       "      <td>Contra Costa County</td>\n",
       "      <td>8</td>\n",
       "    </tr>\n",
       "    <tr>\n",
       "      <th>2</th>\n",
       "      <td>Marin County</td>\n",
       "      <td>10</td>\n",
       "    </tr>\n",
       "    <tr>\n",
       "      <th>3</th>\n",
       "      <td>Napa County</td>\n",
       "      <td>3</td>\n",
       "    </tr>\n",
       "    <tr>\n",
       "      <th>4</th>\n",
       "      <td>San Francisco County</td>\n",
       "      <td>1</td>\n",
       "    </tr>\n",
       "    <tr>\n",
       "      <th>5</th>\n",
       "      <td>San Mateo County</td>\n",
       "      <td>16</td>\n",
       "    </tr>\n",
       "    <tr>\n",
       "      <th>6</th>\n",
       "      <td>Santa Clara County</td>\n",
       "      <td>7</td>\n",
       "    </tr>\n",
       "    <tr>\n",
       "      <th>7</th>\n",
       "      <td>Solano County</td>\n",
       "      <td>5</td>\n",
       "    </tr>\n",
       "    <tr>\n",
       "      <th>8</th>\n",
       "      <td>Sonoma County</td>\n",
       "      <td>2</td>\n",
       "    </tr>\n",
       "  </tbody>\n",
       "</table>\n",
       "</div>"
      ],
      "text/plain": [
       "                 County  count\n",
       "0        Alameda County     11\n",
       "1   Contra Costa County      8\n",
       "2          Marin County     10\n",
       "3           Napa County      3\n",
       "4  San Francisco County      1\n",
       "5      San Mateo County     16\n",
       "6    Santa Clara County      7\n",
       "7         Solano County      5\n",
       "8         Sonoma County      2"
      ]
     },
     "execution_count": 13,
     "metadata": {},
     "output_type": "execute_result"
    }
   ],
   "source": [
    "counties = county_sea_levels.groupby('County').size().to_frame().rename(columns={0: \"count\"}).reset_index()\n",
    "counties"
   ]
  },
  {
   "cell_type": "markdown",
   "id": "96e19eba",
   "metadata": {},
   "source": [
    "**Now we're going to display a bar chart of the communities per county.**"
   ]
  },
  {
   "cell_type": "code",
   "execution_count": 14,
   "id": "70d240d8-6b96-485a-960e-86cc6bc4e606",
   "metadata": {},
   "outputs": [
    {
     "data": {
      "image/png": "[encoded data removed]",
      "text/plain": [
       "<Figure size 432x288 with 1 Axes>"
      ]
     },
     "metadata": {},
     "output_type": "display_data"
    }
   ],
   "source": [
    "plt.bar(counties['County'], counties['count'])\n",
    "plt.xticks(rotation=90)\n",
    "plt.ylabel('Count')\n",
    "plt.title('Number of Communities per County'); "
   ]
  },
  {
   "cell_type": "markdown",
   "id": "63af4ac4-407f-4e97-851f-1e3daf5c37bd",
   "metadata": {},
   "source": [
    "**What county has the most communities?**"
   ]
  },
  {
   "cell_type": "markdown",
   "id": "35af287c-2c55-4a38-bd39-4d98bcdb7f14",
   "metadata": {},
   "source": [
    "***Replace this with your answer*** (double-click to edit)"
   ]
  },
  {
   "cell_type": "markdown",
   "id": "9d4250d2",
   "metadata": {},
   "source": [
    "### 2.3 One-Hot Encoding"
   ]
  },
  {
   "cell_type": "markdown",
   "id": "0ba8eb34",
   "metadata": {},
   "source": [
    "In some cases, it may be useful to one-hot encode our data. [One-hot encoding](https://hackernoon.com/what-is-one-hot-encoding-why-and-when-do-you-have-to-use-it-e3c6186d008f) is the process by which categorical variables are converted into numerical values to be used in ML/data analysis algorithms. Run through this quick walk-through of the process!"
   ]
  },
  {
   "cell_type": "markdown",
   "id": "5112ff5e",
   "metadata": {},
   "source": [
    "*Let's make our county variable numerical.* This is primarily done by using the [`df.get_dummies`](https://pandas.pydata.org/docs/reference/api/pandas.get_dummies.html) method provided by Pandas. This method takes in a DataFrame with a specific column indicated, and returns a DataFrame with that column's variables encoded. Run the following cell to see what this means!"
   ]
  },
  {
   "cell_type": "code",
   "execution_count": 15,
   "id": "7039a8b8",
   "metadata": {},
   "outputs": [
    {
     "data": {
      "text/html": [
       "<div>\n",
       "<style scoped>\n",
       "    .dataframe tbody tr th:only-of-type {\n",
       "        vertical-align: middle;\n",
       "    }\n",
       "\n",
       "    .dataframe tbody tr th {\n",
       "        vertical-align: top;\n",
       "    }\n",
       "\n",
       "    .dataframe thead th {\n",
       "        text-align: right;\n",
       "    }\n",
       "</style>\n",
       "<table border=\"1\" class=\"dataframe\">\n",
       "  <thead>\n",
       "    <tr style=\"text-align: right;\">\n",
       "      <th></th>\n",
       "      <th>Alameda County</th>\n",
       "      <th>Contra Costa County</th>\n",
       "      <th>Marin County</th>\n",
       "      <th>Napa County</th>\n",
       "      <th>San Francisco County</th>\n",
       "      <th>San Mateo County</th>\n",
       "      <th>Santa Clara County</th>\n",
       "      <th>Solano County</th>\n",
       "      <th>Sonoma County</th>\n",
       "    </tr>\n",
       "  </thead>\n",
       "  <tbody>\n",
       "    <tr>\n",
       "      <th>0</th>\n",
       "      <td>1</td>\n",
       "      <td>0</td>\n",
       "      <td>0</td>\n",
       "      <td>0</td>\n",
       "      <td>0</td>\n",
       "      <td>0</td>\n",
       "      <td>0</td>\n",
       "      <td>0</td>\n",
       "      <td>0</td>\n",
       "    </tr>\n",
       "    <tr>\n",
       "      <th>1</th>\n",
       "      <td>1</td>\n",
       "      <td>0</td>\n",
       "      <td>0</td>\n",
       "      <td>0</td>\n",
       "      <td>0</td>\n",
       "      <td>0</td>\n",
       "      <td>0</td>\n",
       "      <td>0</td>\n",
       "      <td>0</td>\n",
       "    </tr>\n",
       "    <tr>\n",
       "      <th>2</th>\n",
       "      <td>1</td>\n",
       "      <td>0</td>\n",
       "      <td>0</td>\n",
       "      <td>0</td>\n",
       "      <td>0</td>\n",
       "      <td>0</td>\n",
       "      <td>0</td>\n",
       "      <td>0</td>\n",
       "      <td>0</td>\n",
       "    </tr>\n",
       "    <tr>\n",
       "      <th>3</th>\n",
       "      <td>1</td>\n",
       "      <td>0</td>\n",
       "      <td>0</td>\n",
       "      <td>0</td>\n",
       "      <td>0</td>\n",
       "      <td>0</td>\n",
       "      <td>0</td>\n",
       "      <td>0</td>\n",
       "      <td>0</td>\n",
       "    </tr>\n",
       "    <tr>\n",
       "      <th>4</th>\n",
       "      <td>1</td>\n",
       "      <td>0</td>\n",
       "      <td>0</td>\n",
       "      <td>0</td>\n",
       "      <td>0</td>\n",
       "      <td>0</td>\n",
       "      <td>0</td>\n",
       "      <td>0</td>\n",
       "      <td>0</td>\n",
       "    </tr>\n",
       "    <tr>\n",
       "      <th>...</th>\n",
       "      <td>...</td>\n",
       "      <td>...</td>\n",
       "      <td>...</td>\n",
       "      <td>...</td>\n",
       "      <td>...</td>\n",
       "      <td>...</td>\n",
       "      <td>...</td>\n",
       "      <td>...</td>\n",
       "      <td>...</td>\n",
       "    </tr>\n",
       "    <tr>\n",
       "      <th>58</th>\n",
       "      <td>0</td>\n",
       "      <td>0</td>\n",
       "      <td>0</td>\n",
       "      <td>0</td>\n",
       "      <td>0</td>\n",
       "      <td>0</td>\n",
       "      <td>0</td>\n",
       "      <td>1</td>\n",
       "      <td>0</td>\n",
       "    </tr>\n",
       "    <tr>\n",
       "      <th>59</th>\n",
       "      <td>0</td>\n",
       "      <td>0</td>\n",
       "      <td>0</td>\n",
       "      <td>0</td>\n",
       "      <td>0</td>\n",
       "      <td>0</td>\n",
       "      <td>0</td>\n",
       "      <td>1</td>\n",
       "      <td>0</td>\n",
       "    </tr>\n",
       "    <tr>\n",
       "      <th>60</th>\n",
       "      <td>0</td>\n",
       "      <td>0</td>\n",
       "      <td>0</td>\n",
       "      <td>0</td>\n",
       "      <td>0</td>\n",
       "      <td>0</td>\n",
       "      <td>0</td>\n",
       "      <td>1</td>\n",
       "      <td>0</td>\n",
       "    </tr>\n",
       "    <tr>\n",
       "      <th>61</th>\n",
       "      <td>0</td>\n",
       "      <td>0</td>\n",
       "      <td>0</td>\n",
       "      <td>0</td>\n",
       "      <td>0</td>\n",
       "      <td>0</td>\n",
       "      <td>0</td>\n",
       "      <td>0</td>\n",
       "      <td>1</td>\n",
       "    </tr>\n",
       "    <tr>\n",
       "      <th>62</th>\n",
       "      <td>0</td>\n",
       "      <td>0</td>\n",
       "      <td>0</td>\n",
       "      <td>0</td>\n",
       "      <td>0</td>\n",
       "      <td>0</td>\n",
       "      <td>0</td>\n",
       "      <td>0</td>\n",
       "      <td>1</td>\n",
       "    </tr>\n",
       "  </tbody>\n",
       "</table>\n",
       "<p>63 rows × 9 columns</p>\n",
       "</div>"
      ],
      "text/plain": [
       "    Alameda County  Contra Costa County  Marin County  Napa County  \\\n",
       "0                1                    0             0            0   \n",
       "1                1                    0             0            0   \n",
       "2                1                    0             0            0   \n",
       "3                1                    0             0            0   \n",
       "4                1                    0             0            0   \n",
       "..             ...                  ...           ...          ...   \n",
       "58               0                    0             0            0   \n",
       "59               0                    0             0            0   \n",
       "60               0                    0             0            0   \n",
       "61               0                    0             0            0   \n",
       "62               0                    0             0            0   \n",
       "\n",
       "    San Francisco County  San Mateo County  Santa Clara County  Solano County  \\\n",
       "0                      0                 0                   0              0   \n",
       "1                      0                 0                   0              0   \n",
       "2                      0                 0                   0              0   \n",
       "3                      0                 0                   0              0   \n",
       "4                      0                 0                   0              0   \n",
       "..                   ...               ...                 ...            ...   \n",
       "58                     0                 0                   0              1   \n",
       "59                     0                 0                   0              1   \n",
       "60                     0                 0                   0              1   \n",
       "61                     0                 0                   0              0   \n",
       "62                     0                 0                   0              0   \n",
       "\n",
       "    Sonoma County  \n",
       "0               0  \n",
       "1               0  \n",
       "2               0  \n",
       "3               0  \n",
       "4               0  \n",
       "..            ...  \n",
       "58              0  \n",
       "59              0  \n",
       "60              0  \n",
       "61              1  \n",
       "62              1  \n",
       "\n",
       "[63 rows x 9 columns]"
      ]
     },
     "execution_count": 15,
     "metadata": {},
     "output_type": "execute_result"
    }
   ],
   "source": [
    "pd.get_dummies(county_sea_levels[\"County\"])"
   ]
  },
  {
   "cell_type": "markdown",
   "id": "9c715e0b",
   "metadata": {},
   "source": [
    "Take a look at the first row. This zone is within Alameda County. `pd.get_dummies` encodes the value under \"Alameda County\" with a 1 and encodes values under every other county with 0, as each zone can only be in one county. The process is the same with all rows:\n",
    "> **1** in the column labelled with the county that the zone belongs to and **0** in every other column.\n",
    "\n",
    "Notice how all of these rows and columns were created from just a singular column containing categorical data within our original table. Once we get this DataFrame, we would add these columns as new features to our original DataFrame!"
   ]
  },
  {
   "cell_type": "markdown",
   "id": "81bea657",
   "metadata": {},
   "source": [
    "**Think of and describe a scenario (related to or not related to our topic) where using one-hot encoding may be helpful.**"
   ]
  },
  {
   "cell_type": "markdown",
   "id": "9803e83a",
   "metadata": {},
   "source": [
    "***Replace this with your answer*** (double-click to edit)"
   ]
  },
  {
   "cell_type": "markdown",
   "id": "bdfb13b6",
   "metadata": {},
   "source": [
    "**Why is data cleaning and pre-processing helpful prior to data analysis?**"
   ]
  },
  {
   "cell_type": "markdown",
   "id": "06c30cdb",
   "metadata": {},
   "source": [
    "***Replace this with your answer*** (double-click to edit)"
   ]
  },
  {
   "cell_type": "markdown",
   "id": "f176e041-bad4-468c-907b-6536f1765b26",
   "metadata": {
    "tags": []
   },
   "source": [
    "# 3. Comparing Demographics to Sea Level Rise (SLR) <a id='2'></a>"
   ]
  },
  {
   "cell_type": "markdown",
   "id": "579fa636-4223-4dd1-aa3d-b109ae2089d1",
   "metadata": {},
   "source": [
    "### 3.1 Demographic Data"
   ]
  },
  {
   "cell_type": "markdown",
   "id": "5164917c-a6e2-40f4-bfca-1413b5fa07a1",
   "metadata": {},
   "source": [
    "Let's import the dataset. This was a part of the exact same research as our `county_sea_levels` DataFrame, but is stored in a different *csv* file, so we will import it below. Begin to pay more attention to these import statements, as in the next notebook in a couple weeks, you will be asked to import data similarly. Since this data is about the demographic information of each zone, we will assign the DataFrame to a variable called `demographics`."
   ]
  },
  {
   "cell_type": "code",
   "execution_count": 16,
   "id": "5fb819da-878e-41ec-9643-db9b66e8dde9",
   "metadata": {},
   "outputs": [
    {
     "data": {
      "text/html": [
       "<div>\n",
       "<style scoped>\n",
       "    .dataframe tbody tr th:only-of-type {\n",
       "        vertical-align: middle;\n",
       "    }\n",
       "\n",
       "    .dataframe tbody tr th {\n",
       "        vertical-align: top;\n",
       "    }\n",
       "\n",
       "    .dataframe thead th {\n",
       "        text-align: right;\n",
       "    }\n",
       "</style>\n",
       "<table border=\"1\" class=\"dataframe\">\n",
       "  <thead>\n",
       "    <tr style=\"text-align: right;\">\n",
       "      <th></th>\n",
       "      <th>Geo_Order</th>\n",
       "      <th>OBJECTID</th>\n",
       "      <th>Community</th>\n",
       "      <th>County</th>\n",
       "      <th>HISP_P</th>\n",
       "      <th>White_P</th>\n",
       "      <th>Black_P</th>\n",
       "      <th>AI_P</th>\n",
       "      <th>Asian_P</th>\n",
       "      <th>PI_P</th>\n",
       "      <th>Other_P</th>\n",
       "      <th>Under5_P</th>\n",
       "      <th>Over65_P</th>\n",
       "      <th>Inst_P</th>\n",
       "      <th>NonInst_P</th>\n",
       "      <th>Renters_P</th>\n",
       "    </tr>\n",
       "  </thead>\n",
       "  <tbody>\n",
       "    <tr>\n",
       "      <th>0</th>\n",
       "      <td>34</td>\n",
       "      <td>1</td>\n",
       "      <td>Alameda</td>\n",
       "      <td>Alameda County</td>\n",
       "      <td>0.11</td>\n",
       "      <td>0.6</td>\n",
       "      <td>0.08</td>\n",
       "      <td>0.02</td>\n",
       "      <td>0.34</td>\n",
       "      <td>0.01</td>\n",
       "      <td>0.04</td>\n",
       "      <td>0.04</td>\n",
       "      <td>0.12</td>\n",
       "      <td>0.0</td>\n",
       "      <td>0.03</td>\n",
       "      <td>0.60</td>\n",
       "    </tr>\n",
       "    <tr>\n",
       "      <th>1</th>\n",
       "      <td>30</td>\n",
       "      <td>2</td>\n",
       "      <td>Albany</td>\n",
       "      <td>Alameda County</td>\n",
       "      <td>0.00</td>\n",
       "      <td>0.0</td>\n",
       "      <td>0.00</td>\n",
       "      <td>0.00</td>\n",
       "      <td>0.00</td>\n",
       "      <td>0.00</td>\n",
       "      <td>0.00</td>\n",
       "      <td>0.00</td>\n",
       "      <td>0.00</td>\n",
       "      <td>0.0</td>\n",
       "      <td>0.00</td>\n",
       "      <td>0.00</td>\n",
       "    </tr>\n",
       "    <tr>\n",
       "      <th>2</th>\n",
       "      <td>31</td>\n",
       "      <td>3</td>\n",
       "      <td>Berkeley</td>\n",
       "      <td>Alameda County</td>\n",
       "      <td>0.00</td>\n",
       "      <td>1.0</td>\n",
       "      <td>0.00</td>\n",
       "      <td>0.00</td>\n",
       "      <td>0.00</td>\n",
       "      <td>0.00</td>\n",
       "      <td>0.00</td>\n",
       "      <td>0.00</td>\n",
       "      <td>0.00</td>\n",
       "      <td>0.0</td>\n",
       "      <td>0.00</td>\n",
       "      <td>0.00</td>\n",
       "    </tr>\n",
       "    <tr>\n",
       "      <th>3</th>\n",
       "      <td>32</td>\n",
       "      <td>4</td>\n",
       "      <td>Emeryville</td>\n",
       "      <td>Alameda County</td>\n",
       "      <td>0.04</td>\n",
       "      <td>0.7</td>\n",
       "      <td>0.07</td>\n",
       "      <td>0.01</td>\n",
       "      <td>0.24</td>\n",
       "      <td>0.00</td>\n",
       "      <td>0.02</td>\n",
       "      <td>0.02</td>\n",
       "      <td>0.23</td>\n",
       "      <td>0.0</td>\n",
       "      <td>0.00</td>\n",
       "      <td>0.46</td>\n",
       "    </tr>\n",
       "    <tr>\n",
       "      <th>4</th>\n",
       "      <td>38</td>\n",
       "      <td>5</td>\n",
       "      <td>Fremont</td>\n",
       "      <td>Alameda County</td>\n",
       "      <td>0.00</td>\n",
       "      <td>0.0</td>\n",
       "      <td>0.00</td>\n",
       "      <td>0.00</td>\n",
       "      <td>0.00</td>\n",
       "      <td>0.00</td>\n",
       "      <td>0.00</td>\n",
       "      <td>0.00</td>\n",
       "      <td>0.00</td>\n",
       "      <td>0.0</td>\n",
       "      <td>0.00</td>\n",
       "      <td>0.00</td>\n",
       "    </tr>\n",
       "  </tbody>\n",
       "</table>\n",
       "</div>"
      ],
      "text/plain": [
       "   Geo_Order  OBJECTID   Community          County  HISP_P  White_P  Black_P  \\\n",
       "0         34         1     Alameda  Alameda County    0.11      0.6     0.08   \n",
       "1         30         2      Albany  Alameda County    0.00      0.0     0.00   \n",
       "2         31         3    Berkeley  Alameda County    0.00      1.0     0.00   \n",
       "3         32         4  Emeryville  Alameda County    0.04      0.7     0.07   \n",
       "4         38         5     Fremont  Alameda County    0.00      0.0     0.00   \n",
       "\n",
       "   AI_P  Asian_P  PI_P  Other_P  Under5_P  Over65_P  Inst_P  NonInst_P  \\\n",
       "0  0.02     0.34  0.01     0.04      0.04      0.12     0.0       0.03   \n",
       "1  0.00     0.00  0.00     0.00      0.00      0.00     0.0       0.00   \n",
       "2  0.00     0.00  0.00     0.00      0.00      0.00     0.0       0.00   \n",
       "3  0.01     0.24  0.00     0.02      0.02      0.23     0.0       0.00   \n",
       "4  0.00     0.00  0.00     0.00      0.00      0.00     0.0       0.00   \n",
       "\n",
       "   Renters_P  \n",
       "0       0.60  \n",
       "1       0.00  \n",
       "2       0.00  \n",
       "3       0.46  \n",
       "4       0.00  "
      ]
     },
     "execution_count": 16,
     "metadata": {},
     "output_type": "execute_result"
    }
   ],
   "source": [
    "demographics = pd.read_csv('datasets/demographics.csv').drop(columns=['Unnamed: 16', 'Unnamed: 17', 'Unnamed: 18', 'Unnamed: 19'])\n",
    "demographics.head() #.head() shows the first 5 rows of the data"
   ]
  },
  {
   "cell_type": "markdown",
   "id": "16d0b2d0-afa4-4132-98a0-537ce81e0b4e",
   "metadata": {},
   "source": [
    "As with any data, let's review the variables so we are sure we understand what the data represents. Run the below cell to print a list of the column/variable names."
   ]
  },
  {
   "cell_type": "code",
   "execution_count": 17,
   "id": "1b05bf2b-5199-4576-9fe1-331173e1c66b",
   "metadata": {},
   "outputs": [
    {
     "data": {
      "text/plain": [
       "['Geo_Order',\n",
       " 'OBJECTID',\n",
       " 'Community',\n",
       " 'County',\n",
       " 'HISP_P',\n",
       " 'White_P',\n",
       " 'Black_P',\n",
       " 'AI_P',\n",
       " 'Asian_P',\n",
       " 'PI_P',\n",
       " 'Other_P',\n",
       " 'Under5_P',\n",
       " 'Over65_P',\n",
       " 'Inst_P',\n",
       " 'NonInst_P',\n",
       " 'Renters_P']"
      ]
     },
     "execution_count": 17,
     "metadata": {},
     "output_type": "execute_result"
    }
   ],
   "source": [
    "list(demographics.columns)"
   ]
  },
  {
   "cell_type": "markdown",
   "id": "ae39e8ba-bc50-4067-87ff-901321ddaaa2",
   "metadata": {},
   "source": [
    "We will be focusing on the columns that represent the populations of each race:\n",
    "> `White_P`, `Black_P`, `AI_P`, `Asian_P`, `PI_P`, `Other_P`\n",
    "\n",
    "For example, `White_P` will contain a number between 0 and 1 that represents the proportion of white people that are residents in that zone (0.62 means 62% of the residents in this zone are white)."
   ]
  },
  {
   "cell_type": "markdown",
   "id": "2908ac4e-d630-49d2-82bf-54d0a4db6b4a",
   "metadata": {},
   "source": [
    "### 3.2 Merging DataFrames"
   ]
  },
  {
   "cell_type": "markdown",
   "id": "a3f67ff7-4b1c-4282-b5c9-96c1d5ad96e4",
   "metadata": {},
   "source": [
    "As mentioned in the title of this section, we want to compare the demographic information found in `demographics` to Sea Level Rise information. Remember, the data about Sea Level Rise was stored in the `county_sea_levels` DataFrame.\n",
    "> To merge two DataFrames, we use **`pd.merge`**. In order to merge, the two DataFrames need one (or more) column with identical values. In this case, the `Geo_Order`, `OBJECTID`, `Community`, and `County` columns are all identical so these two DataFrames will merge seamlessly (without any NA values produced). [More information about pd.merge](https://pandas.pydata.org/docs/reference/api/pandas.DataFrame.merge.html)."
   ]
  },
  {
   "cell_type": "code",
   "execution_count": 18,
   "id": "ebefde4a-ace9-4329-ba5c-d3e1cd488c89",
   "metadata": {},
   "outputs": [
    {
     "data": {
      "text/html": [
       "<div>\n",
       "<style scoped>\n",
       "    .dataframe tbody tr th:only-of-type {\n",
       "        vertical-align: middle;\n",
       "    }\n",
       "\n",
       "    .dataframe tbody tr th {\n",
       "        vertical-align: top;\n",
       "    }\n",
       "\n",
       "    .dataframe thead th {\n",
       "        text-align: right;\n",
       "    }\n",
       "</style>\n",
       "<table border=\"1\" class=\"dataframe\">\n",
       "  <thead>\n",
       "    <tr style=\"text-align: right;\">\n",
       "      <th></th>\n",
       "      <th>Geo_Order</th>\n",
       "      <th>OBJECTID</th>\n",
       "      <th>Community</th>\n",
       "      <th>County</th>\n",
       "      <th>Res_N_0</th>\n",
       "      <th>Res_N_50</th>\n",
       "      <th>Res_N_100</th>\n",
       "      <th>Res_N_150</th>\n",
       "      <th>Res_P_0</th>\n",
       "      <th>Res_P_50</th>\n",
       "      <th>...</th>\n",
       "      <th>Black_P</th>\n",
       "      <th>AI_P</th>\n",
       "      <th>Asian_P</th>\n",
       "      <th>PI_P</th>\n",
       "      <th>Other_P</th>\n",
       "      <th>Under5_P</th>\n",
       "      <th>Over65_P</th>\n",
       "      <th>Inst_P</th>\n",
       "      <th>NonInst_P</th>\n",
       "      <th>Renters_P</th>\n",
       "    </tr>\n",
       "  </thead>\n",
       "  <tbody>\n",
       "    <tr>\n",
       "      <th>0</th>\n",
       "      <td>34</td>\n",
       "      <td>1</td>\n",
       "      <td>Alameda</td>\n",
       "      <td>Alameda County</td>\n",
       "      <td>0</td>\n",
       "      <td>185</td>\n",
       "      <td>1706</td>\n",
       "      <td>9028</td>\n",
       "      <td>0.0</td>\n",
       "      <td>0.0</td>\n",
       "      <td>...</td>\n",
       "      <td>0.08</td>\n",
       "      <td>0.02</td>\n",
       "      <td>0.34</td>\n",
       "      <td>0.01</td>\n",
       "      <td>0.04</td>\n",
       "      <td>0.04</td>\n",
       "      <td>0.12</td>\n",
       "      <td>0.0</td>\n",
       "      <td>0.03</td>\n",
       "      <td>0.60</td>\n",
       "    </tr>\n",
       "    <tr>\n",
       "      <th>1</th>\n",
       "      <td>30</td>\n",
       "      <td>2</td>\n",
       "      <td>Albany</td>\n",
       "      <td>Alameda County</td>\n",
       "      <td>0</td>\n",
       "      <td>0</td>\n",
       "      <td>0</td>\n",
       "      <td>0</td>\n",
       "      <td>0.0</td>\n",
       "      <td>0.0</td>\n",
       "      <td>...</td>\n",
       "      <td>0.00</td>\n",
       "      <td>0.00</td>\n",
       "      <td>0.00</td>\n",
       "      <td>0.00</td>\n",
       "      <td>0.00</td>\n",
       "      <td>0.00</td>\n",
       "      <td>0.00</td>\n",
       "      <td>0.0</td>\n",
       "      <td>0.00</td>\n",
       "      <td>0.00</td>\n",
       "    </tr>\n",
       "    <tr>\n",
       "      <th>2</th>\n",
       "      <td>31</td>\n",
       "      <td>3</td>\n",
       "      <td>Berkeley</td>\n",
       "      <td>Alameda County</td>\n",
       "      <td>0</td>\n",
       "      <td>0</td>\n",
       "      <td>1</td>\n",
       "      <td>5</td>\n",
       "      <td>0.0</td>\n",
       "      <td>0.0</td>\n",
       "      <td>...</td>\n",
       "      <td>0.00</td>\n",
       "      <td>0.00</td>\n",
       "      <td>0.00</td>\n",
       "      <td>0.00</td>\n",
       "      <td>0.00</td>\n",
       "      <td>0.00</td>\n",
       "      <td>0.00</td>\n",
       "      <td>0.0</td>\n",
       "      <td>0.00</td>\n",
       "      <td>0.00</td>\n",
       "    </tr>\n",
       "    <tr>\n",
       "      <th>3</th>\n",
       "      <td>32</td>\n",
       "      <td>4</td>\n",
       "      <td>Emeryville</td>\n",
       "      <td>Alameda County</td>\n",
       "      <td>0</td>\n",
       "      <td>94</td>\n",
       "      <td>117</td>\n",
       "      <td>146</td>\n",
       "      <td>0.0</td>\n",
       "      <td>0.0</td>\n",
       "      <td>...</td>\n",
       "      <td>0.07</td>\n",
       "      <td>0.01</td>\n",
       "      <td>0.24</td>\n",
       "      <td>0.00</td>\n",
       "      <td>0.02</td>\n",
       "      <td>0.02</td>\n",
       "      <td>0.23</td>\n",
       "      <td>0.0</td>\n",
       "      <td>0.00</td>\n",
       "      <td>0.46</td>\n",
       "    </tr>\n",
       "    <tr>\n",
       "      <th>4</th>\n",
       "      <td>38</td>\n",
       "      <td>5</td>\n",
       "      <td>Fremont</td>\n",
       "      <td>Alameda County</td>\n",
       "      <td>0</td>\n",
       "      <td>0</td>\n",
       "      <td>0</td>\n",
       "      <td>0</td>\n",
       "      <td>0.0</td>\n",
       "      <td>0.0</td>\n",
       "      <td>...</td>\n",
       "      <td>0.00</td>\n",
       "      <td>0.00</td>\n",
       "      <td>0.00</td>\n",
       "      <td>0.00</td>\n",
       "      <td>0.00</td>\n",
       "      <td>0.00</td>\n",
       "      <td>0.00</td>\n",
       "      <td>0.0</td>\n",
       "      <td>0.00</td>\n",
       "      <td>0.00</td>\n",
       "    </tr>\n",
       "    <tr>\n",
       "      <th>...</th>\n",
       "      <td>...</td>\n",
       "      <td>...</td>\n",
       "      <td>...</td>\n",
       "      <td>...</td>\n",
       "      <td>...</td>\n",
       "      <td>...</td>\n",
       "      <td>...</td>\n",
       "      <td>...</td>\n",
       "      <td>...</td>\n",
       "      <td>...</td>\n",
       "      <td>...</td>\n",
       "      <td>...</td>\n",
       "      <td>...</td>\n",
       "      <td>...</td>\n",
       "      <td>...</td>\n",
       "      <td>...</td>\n",
       "      <td>...</td>\n",
       "      <td>...</td>\n",
       "      <td>...</td>\n",
       "      <td>...</td>\n",
       "      <td>...</td>\n",
       "    </tr>\n",
       "    <tr>\n",
       "      <th>58</th>\n",
       "      <td>19</td>\n",
       "      <td>59</td>\n",
       "      <td>Suisun City</td>\n",
       "      <td>Solano County</td>\n",
       "      <td>0</td>\n",
       "      <td>12</td>\n",
       "      <td>33</td>\n",
       "      <td>1872</td>\n",
       "      <td>0.0</td>\n",
       "      <td>0.0</td>\n",
       "      <td>...</td>\n",
       "      <td>0.27</td>\n",
       "      <td>0.00</td>\n",
       "      <td>0.09</td>\n",
       "      <td>0.00</td>\n",
       "      <td>0.09</td>\n",
       "      <td>0.00</td>\n",
       "      <td>0.09</td>\n",
       "      <td>0.0</td>\n",
       "      <td>0.00</td>\n",
       "      <td>0.33</td>\n",
       "    </tr>\n",
       "    <tr>\n",
       "      <th>59</th>\n",
       "      <td>20</td>\n",
       "      <td>60</td>\n",
       "      <td>Unincorporated Solano County</td>\n",
       "      <td>Solano County</td>\n",
       "      <td>0</td>\n",
       "      <td>63</td>\n",
       "      <td>91</td>\n",
       "      <td>110</td>\n",
       "      <td>0.0</td>\n",
       "      <td>0.0</td>\n",
       "      <td>...</td>\n",
       "      <td>0.00</td>\n",
       "      <td>0.04</td>\n",
       "      <td>0.09</td>\n",
       "      <td>0.01</td>\n",
       "      <td>0.03</td>\n",
       "      <td>0.03</td>\n",
       "      <td>0.24</td>\n",
       "      <td>0.0</td>\n",
       "      <td>0.00</td>\n",
       "      <td>0.48</td>\n",
       "    </tr>\n",
       "    <tr>\n",
       "      <th>60</th>\n",
       "      <td>16</td>\n",
       "      <td>61</td>\n",
       "      <td>Vallejo</td>\n",
       "      <td>Solano County</td>\n",
       "      <td>0</td>\n",
       "      <td>124</td>\n",
       "      <td>538</td>\n",
       "      <td>596</td>\n",
       "      <td>0.0</td>\n",
       "      <td>0.0</td>\n",
       "      <td>...</td>\n",
       "      <td>0.18</td>\n",
       "      <td>0.00</td>\n",
       "      <td>0.29</td>\n",
       "      <td>0.01</td>\n",
       "      <td>0.09</td>\n",
       "      <td>0.03</td>\n",
       "      <td>0.12</td>\n",
       "      <td>0.0</td>\n",
       "      <td>0.08</td>\n",
       "      <td>0.16</td>\n",
       "    </tr>\n",
       "    <tr>\n",
       "      <th>61</th>\n",
       "      <td>11</td>\n",
       "      <td>62</td>\n",
       "      <td>Petaluma</td>\n",
       "      <td>Sonoma County</td>\n",
       "      <td>0</td>\n",
       "      <td>76</td>\n",
       "      <td>297</td>\n",
       "      <td>315</td>\n",
       "      <td>0.0</td>\n",
       "      <td>0.0</td>\n",
       "      <td>...</td>\n",
       "      <td>0.01</td>\n",
       "      <td>0.01</td>\n",
       "      <td>0.10</td>\n",
       "      <td>0.00</td>\n",
       "      <td>0.10</td>\n",
       "      <td>0.08</td>\n",
       "      <td>0.04</td>\n",
       "      <td>0.0</td>\n",
       "      <td>0.04</td>\n",
       "      <td>0.77</td>\n",
       "    </tr>\n",
       "    <tr>\n",
       "      <th>62</th>\n",
       "      <td>12</td>\n",
       "      <td>63</td>\n",
       "      <td>Unincorporated Sonoma County</td>\n",
       "      <td>Sonoma County</td>\n",
       "      <td>0</td>\n",
       "      <td>39</td>\n",
       "      <td>120</td>\n",
       "      <td>198</td>\n",
       "      <td>0.0</td>\n",
       "      <td>0.0</td>\n",
       "      <td>...</td>\n",
       "      <td>0.01</td>\n",
       "      <td>0.00</td>\n",
       "      <td>0.01</td>\n",
       "      <td>0.01</td>\n",
       "      <td>0.10</td>\n",
       "      <td>0.01</td>\n",
       "      <td>0.18</td>\n",
       "      <td>0.0</td>\n",
       "      <td>0.00</td>\n",
       "      <td>0.52</td>\n",
       "    </tr>\n",
       "  </tbody>\n",
       "</table>\n",
       "<p>63 rows × 56 columns</p>\n",
       "</div>"
      ],
      "text/plain": [
       "    Geo_Order  OBJECTID                     Community          County  \\\n",
       "0          34         1                       Alameda  Alameda County   \n",
       "1          30         2                        Albany  Alameda County   \n",
       "2          31         3                      Berkeley  Alameda County   \n",
       "3          32         4                    Emeryville  Alameda County   \n",
       "4          38         5                       Fremont  Alameda County   \n",
       "..        ...       ...                           ...             ...   \n",
       "58         19        59                   Suisun City   Solano County   \n",
       "59         20        60  Unincorporated Solano County   Solano County   \n",
       "60         16        61                       Vallejo   Solano County   \n",
       "61         11        62                      Petaluma   Sonoma County   \n",
       "62         12        63  Unincorporated Sonoma County   Sonoma County   \n",
       "\n",
       "    Res_N_0  Res_N_50  Res_N_100  Res_N_150  Res_P_0  Res_P_50  ...  Black_P  \\\n",
       "0         0       185       1706       9028      0.0       0.0  ...     0.08   \n",
       "1         0         0          0          0      0.0       0.0  ...     0.00   \n",
       "2         0         0          1          5      0.0       0.0  ...     0.00   \n",
       "3         0        94        117        146      0.0       0.0  ...     0.07   \n",
       "4         0         0          0          0      0.0       0.0  ...     0.00   \n",
       "..      ...       ...        ...        ...      ...       ...  ...      ...   \n",
       "58        0        12         33       1872      0.0       0.0  ...     0.27   \n",
       "59        0        63         91        110      0.0       0.0  ...     0.00   \n",
       "60        0       124        538        596      0.0       0.0  ...     0.18   \n",
       "61        0        76        297        315      0.0       0.0  ...     0.01   \n",
       "62        0        39        120        198      0.0       0.0  ...     0.01   \n",
       "\n",
       "    AI_P  Asian_P  PI_P  Other_P  Under5_P  Over65_P  Inst_P  NonInst_P  \\\n",
       "0   0.02     0.34  0.01     0.04      0.04      0.12     0.0       0.03   \n",
       "1   0.00     0.00  0.00     0.00      0.00      0.00     0.0       0.00   \n",
       "2   0.00     0.00  0.00     0.00      0.00      0.00     0.0       0.00   \n",
       "3   0.01     0.24  0.00     0.02      0.02      0.23     0.0       0.00   \n",
       "4   0.00     0.00  0.00     0.00      0.00      0.00     0.0       0.00   \n",
       "..   ...      ...   ...      ...       ...       ...     ...        ...   \n",
       "58  0.00     0.09  0.00     0.09      0.00      0.09     0.0       0.00   \n",
       "59  0.04     0.09  0.01     0.03      0.03      0.24     0.0       0.00   \n",
       "60  0.00     0.29  0.01     0.09      0.03      0.12     0.0       0.08   \n",
       "61  0.01     0.10  0.00     0.10      0.08      0.04     0.0       0.04   \n",
       "62  0.00     0.01  0.01     0.10      0.01      0.18     0.0       0.00   \n",
       "\n",
       "    Renters_P  \n",
       "0        0.60  \n",
       "1        0.00  \n",
       "2        0.00  \n",
       "3        0.46  \n",
       "4        0.00  \n",
       "..        ...  \n",
       "58       0.33  \n",
       "59       0.48  \n",
       "60       0.16  \n",
       "61       0.77  \n",
       "62       0.52  \n",
       "\n",
       "[63 rows x 56 columns]"
      ]
     },
     "execution_count": 18,
     "metadata": {},
     "output_type": "execute_result"
    }
   ],
   "source": [
    "slr_and_demo = pd.merge(county_sea_levels, demographics)\n",
    "slr_and_demo"
   ]
  },
  {
   "cell_type": "markdown",
   "id": "3365446b-96ab-4dae-9716-fa804e13617b",
   "metadata": {},
   "source": [
    "Notice that above this cell, it says \"63 rows x 56 columns\". These are the dimensions of the new DataFrame that we assigned to the variable `slr_and_demo`. We can find the same information about any DataFrame using the function `.shape`.\n",
    "\n",
    "As a sanity check, let's view the shape of both DataFrames in addition to the new merged DataFrame."
   ]
  },
  {
   "cell_type": "code",
   "execution_count": 19,
   "id": "679b492d-d929-4017-b2e8-e88133d06595",
   "metadata": {},
   "outputs": [
    {
     "data": {
      "text/plain": [
       "(63, 44)"
      ]
     },
     "execution_count": 19,
     "metadata": {},
     "output_type": "execute_result"
    }
   ],
   "source": [
    "county_sea_levels.shape"
   ]
  },
  {
   "cell_type": "code",
   "execution_count": 20,
   "id": "694430d9-3f64-4344-b887-af023f6e25c0",
   "metadata": {},
   "outputs": [
    {
     "data": {
      "text/plain": [
       "(63, 16)"
      ]
     },
     "execution_count": 20,
     "metadata": {},
     "output_type": "execute_result"
    }
   ],
   "source": [
    "demographics.shape"
   ]
  },
  {
   "cell_type": "code",
   "execution_count": 21,
   "id": "9b1d9651-c0bb-4245-865a-6b92ead2d8d9",
   "metadata": {},
   "outputs": [
    {
     "data": {
      "text/plain": [
       "(63, 56)"
      ]
     },
     "execution_count": 21,
     "metadata": {},
     "output_type": "execute_result"
    }
   ],
   "source": [
    "slr_and_demo.shape"
   ]
  },
  {
   "cell_type": "markdown",
   "id": "1b6e4ef3-b066-4474-806b-48af15ead743",
   "metadata": {},
   "source": [
    "**Notice that the number of rows is the same in all 3 DataFrames (63 rows). Now notice that `county_sea_levels` has 44 columns and `demographics` has 16 columns. 44 + 16 = 60 but `slr_and_demo` has only 56 columns. Why is this?**\n",
    "\n",
    "*Hint: Re-read the description of how `pd.merge` works.*"
   ]
  },
  {
   "cell_type": "markdown",
   "id": "56be297b-ce83-40b9-8a11-2ac1b42482b6",
   "metadata": {},
   "source": [
    "***Replace this with your answer*** (double-click to edit)"
   ]
  },
  {
   "cell_type": "markdown",
   "id": "479be721-c72d-4668-9e68-13360fefbe41",
   "metadata": {},
   "source": [
    "## 3.3 Graphing Racial Demographics vs. SLR"
   ]
  },
  {
   "cell_type": "markdown",
   "id": "405d3e30-9176-40ce-9948-549dbbe4b999",
   "metadata": {},
   "source": [
    "Now we have one DataFrame (`slr_and_demo`) that contains all the data we need to compare racial demographics with Sea Level Rise. As we saw before, there are columns representing proportions of different races living in each zone. While we can compare any specific race with the sea level rise present, we will generalize our analysis a bit by comparing the percentage of people of color (POC) residing in the zone with the amount of sea level rise in the zone.\n",
    "\n",
    "Since there isn't a column that represents the total proportion of POC residents, we will make one!\n",
    "> Proportions always add up to 1 (ie, each value in a single row under a column in the form of race_P summed together = 1). Knowing this fact, we can find the proportion of POC in the zone by subtracting `White_P` (proportion of white people in the zone) from 1. This is equivalent to summing together every race column that is doesn't represent white people.\n",
    "\n",
    "> We then multiply this value by 100 to turn it into a percentage (0 to 100) rather than a proportion (0 to 1) for readability in future graphs."
   ]
  },
  {
   "cell_type": "code",
   "execution_count": 22,
   "id": "10cff042-3bd3-4c70-b383-1f07ffe136ae",
   "metadata": {},
   "outputs": [],
   "source": [
    "slr_and_demo['POC Percentage'] = (1-slr_and_demo['White_P'])*100"
   ]
  },
  {
   "cell_type": "code",
   "execution_count": 23,
   "id": "cb6c3f98-b726-43d2-af92-8d480f5298cf",
   "metadata": {},
   "outputs": [
    {
     "data": {
      "text/html": [
       "<div>\n",
       "<style scoped>\n",
       "    .dataframe tbody tr th:only-of-type {\n",
       "        vertical-align: middle;\n",
       "    }\n",
       "\n",
       "    .dataframe tbody tr th {\n",
       "        vertical-align: top;\n",
       "    }\n",
       "\n",
       "    .dataframe thead th {\n",
       "        text-align: right;\n",
       "    }\n",
       "</style>\n",
       "<table border=\"1\" class=\"dataframe\">\n",
       "  <thead>\n",
       "    <tr style=\"text-align: right;\">\n",
       "      <th></th>\n",
       "      <th>Geo_Order</th>\n",
       "      <th>OBJECTID</th>\n",
       "      <th>Community</th>\n",
       "      <th>County</th>\n",
       "      <th>Res_N_0</th>\n",
       "      <th>Res_N_50</th>\n",
       "      <th>Res_N_100</th>\n",
       "      <th>Res_N_150</th>\n",
       "      <th>Res_P_0</th>\n",
       "      <th>Res_P_50</th>\n",
       "      <th>...</th>\n",
       "      <th>AI_P</th>\n",
       "      <th>Asian_P</th>\n",
       "      <th>PI_P</th>\n",
       "      <th>Other_P</th>\n",
       "      <th>Under5_P</th>\n",
       "      <th>Over65_P</th>\n",
       "      <th>Inst_P</th>\n",
       "      <th>NonInst_P</th>\n",
       "      <th>Renters_P</th>\n",
       "      <th>POC Percentage</th>\n",
       "    </tr>\n",
       "  </thead>\n",
       "  <tbody>\n",
       "    <tr>\n",
       "      <th>0</th>\n",
       "      <td>34</td>\n",
       "      <td>1</td>\n",
       "      <td>Alameda</td>\n",
       "      <td>Alameda County</td>\n",
       "      <td>0</td>\n",
       "      <td>185</td>\n",
       "      <td>1706</td>\n",
       "      <td>9028</td>\n",
       "      <td>0.0</td>\n",
       "      <td>0.0</td>\n",
       "      <td>...</td>\n",
       "      <td>0.02</td>\n",
       "      <td>0.34</td>\n",
       "      <td>0.01</td>\n",
       "      <td>0.04</td>\n",
       "      <td>0.04</td>\n",
       "      <td>0.12</td>\n",
       "      <td>0.0</td>\n",
       "      <td>0.03</td>\n",
       "      <td>0.60</td>\n",
       "      <td>40.0</td>\n",
       "    </tr>\n",
       "    <tr>\n",
       "      <th>1</th>\n",
       "      <td>30</td>\n",
       "      <td>2</td>\n",
       "      <td>Albany</td>\n",
       "      <td>Alameda County</td>\n",
       "      <td>0</td>\n",
       "      <td>0</td>\n",
       "      <td>0</td>\n",
       "      <td>0</td>\n",
       "      <td>0.0</td>\n",
       "      <td>0.0</td>\n",
       "      <td>...</td>\n",
       "      <td>0.00</td>\n",
       "      <td>0.00</td>\n",
       "      <td>0.00</td>\n",
       "      <td>0.00</td>\n",
       "      <td>0.00</td>\n",
       "      <td>0.00</td>\n",
       "      <td>0.0</td>\n",
       "      <td>0.00</td>\n",
       "      <td>0.00</td>\n",
       "      <td>100.0</td>\n",
       "    </tr>\n",
       "    <tr>\n",
       "      <th>2</th>\n",
       "      <td>31</td>\n",
       "      <td>3</td>\n",
       "      <td>Berkeley</td>\n",
       "      <td>Alameda County</td>\n",
       "      <td>0</td>\n",
       "      <td>0</td>\n",
       "      <td>1</td>\n",
       "      <td>5</td>\n",
       "      <td>0.0</td>\n",
       "      <td>0.0</td>\n",
       "      <td>...</td>\n",
       "      <td>0.00</td>\n",
       "      <td>0.00</td>\n",
       "      <td>0.00</td>\n",
       "      <td>0.00</td>\n",
       "      <td>0.00</td>\n",
       "      <td>0.00</td>\n",
       "      <td>0.0</td>\n",
       "      <td>0.00</td>\n",
       "      <td>0.00</td>\n",
       "      <td>0.0</td>\n",
       "    </tr>\n",
       "    <tr>\n",
       "      <th>3</th>\n",
       "      <td>32</td>\n",
       "      <td>4</td>\n",
       "      <td>Emeryville</td>\n",
       "      <td>Alameda County</td>\n",
       "      <td>0</td>\n",
       "      <td>94</td>\n",
       "      <td>117</td>\n",
       "      <td>146</td>\n",
       "      <td>0.0</td>\n",
       "      <td>0.0</td>\n",
       "      <td>...</td>\n",
       "      <td>0.01</td>\n",
       "      <td>0.24</td>\n",
       "      <td>0.00</td>\n",
       "      <td>0.02</td>\n",
       "      <td>0.02</td>\n",
       "      <td>0.23</td>\n",
       "      <td>0.0</td>\n",
       "      <td>0.00</td>\n",
       "      <td>0.46</td>\n",
       "      <td>30.0</td>\n",
       "    </tr>\n",
       "    <tr>\n",
       "      <th>4</th>\n",
       "      <td>38</td>\n",
       "      <td>5</td>\n",
       "      <td>Fremont</td>\n",
       "      <td>Alameda County</td>\n",
       "      <td>0</td>\n",
       "      <td>0</td>\n",
       "      <td>0</td>\n",
       "      <td>0</td>\n",
       "      <td>0.0</td>\n",
       "      <td>0.0</td>\n",
       "      <td>...</td>\n",
       "      <td>0.00</td>\n",
       "      <td>0.00</td>\n",
       "      <td>0.00</td>\n",
       "      <td>0.00</td>\n",
       "      <td>0.00</td>\n",
       "      <td>0.00</td>\n",
       "      <td>0.0</td>\n",
       "      <td>0.00</td>\n",
       "      <td>0.00</td>\n",
       "      <td>100.0</td>\n",
       "    </tr>\n",
       "  </tbody>\n",
       "</table>\n",
       "<p>5 rows × 57 columns</p>\n",
       "</div>"
      ],
      "text/plain": [
       "   Geo_Order  OBJECTID   Community          County  Res_N_0  Res_N_50  \\\n",
       "0         34         1     Alameda  Alameda County        0       185   \n",
       "1         30         2      Albany  Alameda County        0         0   \n",
       "2         31         3    Berkeley  Alameda County        0         0   \n",
       "3         32         4  Emeryville  Alameda County        0        94   \n",
       "4         38         5     Fremont  Alameda County        0         0   \n",
       "\n",
       "   Res_N_100  Res_N_150  Res_P_0  Res_P_50  ...  AI_P  Asian_P  PI_P  Other_P  \\\n",
       "0       1706       9028      0.0       0.0  ...  0.02     0.34  0.01     0.04   \n",
       "1          0          0      0.0       0.0  ...  0.00     0.00  0.00     0.00   \n",
       "2          1          5      0.0       0.0  ...  0.00     0.00  0.00     0.00   \n",
       "3        117        146      0.0       0.0  ...  0.01     0.24  0.00     0.02   \n",
       "4          0          0      0.0       0.0  ...  0.00     0.00  0.00     0.00   \n",
       "\n",
       "   Under5_P  Over65_P  Inst_P  NonInst_P  Renters_P  POC Percentage  \n",
       "0      0.04      0.12     0.0       0.03       0.60            40.0  \n",
       "1      0.00      0.00     0.0       0.00       0.00           100.0  \n",
       "2      0.00      0.00     0.0       0.00       0.00             0.0  \n",
       "3      0.02      0.23     0.0       0.00       0.46            30.0  \n",
       "4      0.00      0.00     0.0       0.00       0.00           100.0  \n",
       "\n",
       "[5 rows x 57 columns]"
      ]
     },
     "execution_count": 23,
     "metadata": {},
     "output_type": "execute_result"
    }
   ],
   "source": [
    "slr_and_demo.head()\n",
    "#Scroll to the right to see our new column called 'POC Percentage'"
   ]
  },
  {
   "cell_type": "markdown",
   "id": "85f0b724-d9e3-48cd-ae70-09ace0fac8af",
   "metadata": {},
   "source": [
    "We will use the package, ***Seaborn***, to plot a scatterplot ([`sns.scatterplot`](https://seaborn.pydata.org/generated/seaborn.scatterplot.html)) with `POC Percentage` on the x-axis and `Res_P_150` turned into a percentage (aka multiplied by 100) on the y-axis."
   ]
  },
  {
   "cell_type": "code",
   "execution_count": 24,
   "id": "efc73750-2fb0-4942-b88f-471a7b3f7325",
   "metadata": {},
   "outputs": [
    {
     "data": {
      "image/png": "[encoded data removed]",
      "text/plain": [
       "<Figure size 432x288 with 1 Axes>"
      ]
     },
     "metadata": {},
     "output_type": "display_data"
    }
   ],
   "source": [
    "slr_and_demo['% of Zone w/ 150cm of SLR'] = slr_and_demo['Res_P_150']*100\n",
    "sns.scatterplot(x='POC Percentage', y='% of Zone w/ 150cm of SLR', data=slr_and_demo, hue='County', s = 100) \n",
    "plt.legend(bbox_to_anchor=(1.05, 1), loc='upper left', borderaxespad=0); #moves legend to the right\n",
    "plt.title(\"% of POC Residents in Zone's Population vs. % of Residents in Zone with 150cm of SLR\");"
   ]
  },
  {
   "cell_type": "markdown",
   "id": "0a89ee52-07ee-4c41-a5f1-c544bfa1f841",
   "metadata": {},
   "source": [
    "This can be a bit difficult to understand as there are many points clustered together and the outlier around (50, 100) makes the scale larger. We can change what portion of the x or y axis is shown using `plt.ylim` and `plt.xlim`. *This doesn't change our DataFrames, only the visualization.*\n",
    "> We will use `plt.ylim(-1, 45)` meaning we want to be able to view the y-axis from y=-1 to y=45.\n",
    "\n",
    "Always keep in mind the data we aren't visualizing, the outlier seen in the previous graph. We also changed the figure size for readability."
   ]
  },
  {
   "cell_type": "code",
   "execution_count": 25,
   "id": "cd32ea05-d2f5-407a-9164-9121bfe4f1c4",
   "metadata": {},
   "outputs": [
    {
     "data": {
      "image/png": "[encoded data removed]",
      "text/plain": [
       "<Figure size 1296x720 with 1 Axes>"
      ]
     },
     "metadata": {},
     "output_type": "display_data"
    }
   ],
   "source": [
    "sns.set(rc = {'figure.figsize':(18,10)})\n",
    "close_scatterplot = sns.scatterplot(x='POC Percentage', y='% of Zone w/ 150cm of SLR', data=slr_and_demo, hue='County', s = 230) \n",
    "close_scatterplot.axes.set_title(\"% of POC Residents in Zone's Population vs. % of Residents in Zone with 150cm of SLR\",fontsize=20)\n",
    "close_scatterplot.set_xlabel(\"POC Percentage\", fontsize = 20)\n",
    "close_scatterplot.set_ylabel(\"% of Zone with 150cm of SLR\", fontsize = 20)\n",
    "plt.ylim(-1, 45);"
   ]
  },
  {
   "cell_type": "markdown",
   "id": "dadbc469-1660-4e97-aee1-37f75a1f7be7",
   "metadata": {},
   "source": [
    "**Make observations about the scatterplot.**\n",
    "\n",
    "*(1) Look at all points for general observations.\n",
    "(2) Look at one color at a time (one county) and make observations about specific counties.*"
   ]
  },
  {
   "cell_type": "markdown",
   "id": "6baa7037-91ec-4300-93bd-be6343394e2f",
   "metadata": {},
   "source": [
    "***Replace this with your answer*** (double-click to edit)"
   ]
  },
  {
   "cell_type": "markdown",
   "id": "4c6835cd-73da-4acb-80d5-5308454547e7",
   "metadata": {},
   "source": [
    "**Make hypotheses about your observations are true in the context of our collected data.**\n",
    "\n",
    "*Feel free to make Google searches about the counties you wrote about. Viewing their locations on a map may be helpful depending on what you observed in the last question.*"
   ]
  },
  {
   "cell_type": "markdown",
   "id": "97ba12df-99e5-4b62-b20f-9b8b29afc78f",
   "metadata": {},
   "source": [
    "***Replace this with your answer*** (double-click to edit)"
   ]
  },
  {
   "cell_type": "markdown",
   "id": "4897da7c",
   "metadata": {
    "tags": []
   },
   "source": [
    "# 4. K-Nearest Neighbors <a id='3'></a>"
   ]
  },
  {
   "cell_type": "markdown",
   "id": "c27bd0e3",
   "metadata": {},
   "source": [
    "Now, let's turn back to the `county_sea_levels` data and begin analyzing using an algorithm called **K-Nearest Neighbors**."
   ]
  },
  {
   "cell_type": "markdown",
   "id": "8991cf2d",
   "metadata": {},
   "source": [
    "### 4.1 What is K-Nearest Neighbors?\n",
    "**K-nearest neighbors (kNN) is a supervised (i.e. performed on _labeled_ datasets) machine learning algorithm mainly used for classification predictive problems, but it can be used for regression predictive problems as well!**\n",
    "\n",
    "kNN uses **_feature similarity_** between new data (test set) and already available data (training set) to predict the values of the new data and assign them a category, based on how closely they match the training set.\n",
    "\n",
    "We can break it down into the following steps.\n",
    "\n",
    "**To classify a test set datapoint:**\n",
    "1. Find its _k_ nearest neighbors:\n",
    "    1. Find the distance between the test datapoint and each datapoint in the training set – Euclidean distance is most commonly used.\n",
    "    2. Augment the training data table with a column containing all the distances.\n",
    "    3. Based on distances, sort the augmented table in ascending order.\n",
    "    4. Take the top _k_ rows of the sorted table.\n",
    "2. Take a majority vote of the k nearest neighbors to see which of the two classes appears more often.\n",
    "3. Assign the point to the class that appears most frequently.\n",
    "\n",
    "The k-nearest neighbors algorithm is **powerful!** It doesn't assume anything about the underlying data being analyzed (also known as a _non-parametric algorithm_) as well as not learning from the training set immediately; instead, it stores the dataset and only performs an action on the dataset at the time of classification (also known as a _lazy learning algorithm_).\n",
    "\n",
    "Here is a good resource to read more about k-nearest neighbors:\n",
    "> [Data 8 textbook chapter for kNN](https://inferentialthinking.com/chapters/17/1/Nearest_Neighbors.html)"
   ]
  },
  {
   "cell_type": "markdown",
   "id": "b687e146",
   "metadata": {},
   "source": [
    "### 4.2 Example of K-Nearest Neighbors"
   ]
  },
  {
   "cell_type": "markdown",
   "id": "d73e063f",
   "metadata": {},
   "source": [
    "Here's a simple example of a scenario that using k-nearest neighbors is helpful for classification:\n",
    "> Suppose we're given a picture of a flower but we're not sure if it's a rose or a carnation – let's find out! Using kNN, we can find **similar features** of the new data in the picture to previous data of roses and carnations. For features, we can use number of petals, color, and size, for example. Then, based on the most similar features, our model will classify it either as a rose or a carnation.\n",
    "\n",
    "For the following example, we will be trying to classify whether students attend UC Berkeley or Stanford depending on where they live! \n",
    "\n",
    "We've included the .csv file called `coordinates.csv` that has the latitude/longitude values and the school each student attends.  \n"
   ]
  },
  {
   "cell_type": "code",
   "execution_count": 26,
   "id": "268683fb-2400-46a5-bd2a-adcb459a610f",
   "metadata": {},
   "outputs": [
    {
     "data": {
      "text/html": [
       "<div>\n",
       "<style scoped>\n",
       "    .dataframe tbody tr th:only-of-type {\n",
       "        vertical-align: middle;\n",
       "    }\n",
       "\n",
       "    .dataframe tbody tr th {\n",
       "        vertical-align: top;\n",
       "    }\n",
       "\n",
       "    .dataframe thead th {\n",
       "        text-align: right;\n",
       "    }\n",
       "</style>\n",
       "<table border=\"1\" class=\"dataframe\">\n",
       "  <thead>\n",
       "    <tr style=\"text-align: right;\">\n",
       "      <th></th>\n",
       "      <th>latitude</th>\n",
       "      <th>longitude</th>\n",
       "      <th>school</th>\n",
       "    </tr>\n",
       "  </thead>\n",
       "  <tbody>\n",
       "    <tr>\n",
       "      <th>0</th>\n",
       "      <td>37.869304</td>\n",
       "      <td>-122.254946</td>\n",
       "      <td>Berkeley</td>\n",
       "    </tr>\n",
       "    <tr>\n",
       "      <th>1</th>\n",
       "      <td>37.865051</td>\n",
       "      <td>-122.255582</td>\n",
       "      <td>Berkeley</td>\n",
       "    </tr>\n",
       "    <tr>\n",
       "      <th>2</th>\n",
       "      <td>37.866116</td>\n",
       "      <td>-122.253733</td>\n",
       "      <td>Berkeley</td>\n",
       "    </tr>\n",
       "    <tr>\n",
       "      <th>3</th>\n",
       "      <td>37.868049</td>\n",
       "      <td>-122.259579</td>\n",
       "      <td>Berkeley</td>\n",
       "    </tr>\n",
       "    <tr>\n",
       "      <th>4</th>\n",
       "      <td>37.868286</td>\n",
       "      <td>-122.256581</td>\n",
       "      <td>Berkeley</td>\n",
       "    </tr>\n",
       "    <tr>\n",
       "      <th>...</th>\n",
       "      <td>...</td>\n",
       "      <td>...</td>\n",
       "      <td>...</td>\n",
       "    </tr>\n",
       "    <tr>\n",
       "      <th>95</th>\n",
       "      <td>37.465370</td>\n",
       "      <td>-122.197002</td>\n",
       "      <td>Stanford</td>\n",
       "    </tr>\n",
       "    <tr>\n",
       "      <th>96</th>\n",
       "      <td>37.399869</td>\n",
       "      <td>-122.090946</td>\n",
       "      <td>Stanford</td>\n",
       "    </tr>\n",
       "    <tr>\n",
       "      <th>97</th>\n",
       "      <td>37.367410</td>\n",
       "      <td>-121.977035</td>\n",
       "      <td>Stanford</td>\n",
       "    </tr>\n",
       "    <tr>\n",
       "      <th>98</th>\n",
       "      <td>37.426077</td>\n",
       "      <td>-121.903974</td>\n",
       "      <td>Stanford</td>\n",
       "    </tr>\n",
       "    <tr>\n",
       "      <th>99</th>\n",
       "      <td>37.541572</td>\n",
       "      <td>-121.993625</td>\n",
       "      <td>Stanford</td>\n",
       "    </tr>\n",
       "  </tbody>\n",
       "</table>\n",
       "<p>100 rows × 3 columns</p>\n",
       "</div>"
      ],
      "text/plain": [
       "     latitude   longitude    school\n",
       "0   37.869304 -122.254946  Berkeley\n",
       "1   37.865051 -122.255582  Berkeley\n",
       "2   37.866116 -122.253733  Berkeley\n",
       "3   37.868049 -122.259579  Berkeley\n",
       "4   37.868286 -122.256581  Berkeley\n",
       "..        ...         ...       ...\n",
       "95  37.465370 -122.197002  Stanford\n",
       "96  37.399869 -122.090946  Stanford\n",
       "97  37.367410 -121.977035  Stanford\n",
       "98  37.426077 -121.903974  Stanford\n",
       "99  37.541572 -121.993625  Stanford\n",
       "\n",
       "[100 rows x 3 columns]"
      ]
     },
     "execution_count": 26,
     "metadata": {},
     "output_type": "execute_result"
    }
   ],
   "source": [
    "coordinates = pd.read_csv('datasets/coordinates.csv')\n",
    "coordinates"
   ]
  },
  {
   "cell_type": "markdown",
   "id": "32e644ca-a9cf-41b0-80a5-d42d48dd4c6a",
   "metadata": {},
   "source": [
    "**Let's use Seaborn to visualize our data!** "
   ]
  },
  {
   "cell_type": "code",
   "execution_count": 27,
   "id": "12155309-cf47-4282-9c71-f7bb714e5faf",
   "metadata": {},
   "outputs": [
    {
     "data": {
      "image/png": "[encoded data removed]",
      "text/plain": [
       "<Figure size 432x288 with 1 Axes>"
      ]
     },
     "metadata": {},
     "output_type": "display_data"
    }
   ],
   "source": [
    "%matplotlib inline\n",
    "plt.style.use('fivethirtyeight') #reseting the size of the figure \n",
    "sns.scatterplot(x = 'latitude', y = 'longitude', data = coordinates, hue='school')\n",
    "plt.title('Coordinates of 100 Cal and Stanford Students');"
   ]
  },
  {
   "cell_type": "markdown",
   "id": "b2d93dd9-ae33-4731-aa54-58fc798496d6",
   "metadata": {},
   "source": [
    "**What observations can you gather?**"
   ]
  },
  {
   "cell_type": "markdown",
   "id": "ab92a78a-dddf-4a8d-84d3-95fc84e34162",
   "metadata": {},
   "source": [
    "***Replace this with your answer*** (double-click to edit)"
   ]
  },
  {
   "cell_type": "markdown",
   "id": "aa721d9f-5d97-4f5c-b102-aa861a198dd3",
   "metadata": {},
   "source": [
    "First, let's split our dataset into a training and a test set. There are 100 rows in our dataset, so let's use the 75 rows for training and 25 for testing. "
   ]
  },
  {
   "cell_type": "code",
   "execution_count": 28,
   "id": "cf737524-5b36-42a9-9905-4ce26510e4ad",
   "metadata": {},
   "outputs": [],
   "source": [
    "train, test = train_test_split(coordinates, test_size=0.25, random_state = 42)"
   ]
  },
  {
   "cell_type": "markdown",
   "id": "66d47a54-a854-4ade-a11e-5af4577bbba5",
   "metadata": {},
   "source": [
    "**Now that we split our data, let's begin classifying the test data using a kNN algorithm!**"
   ]
  },
  {
   "cell_type": "code",
   "execution_count": 29,
   "id": "722eb7b0-e4b7-43c6-8d48-b690bcf5800c",
   "metadata": {},
   "outputs": [
    {
     "data": {
      "text/plain": [
       "'Stanford'"
      ]
     },
     "execution_count": 29,
     "metadata": {},
     "output_type": "execute_result"
    }
   ],
   "source": [
    "def classify(test_row, k, train):\n",
    "    # Creating a list to keep all the distances between each point\n",
    "    distances = list()\n",
    "    \n",
    "    # Calculating the distances\n",
    "    for train_row in train[['latitude', 'longitude']].values:\n",
    "        test_row_features = test_row[[0, 1]]\n",
    "        row_distances = distance.euclidean(train_row, test_row_features)\n",
    "        distances.append(row_distances)\n",
    "    training_copy = train.copy()\n",
    "    training_copy['Distances'] = distances \n",
    "    \n",
    "    # Finding the points that are closest \n",
    "    training_copy = training_copy.sort_values('Distances', ascending = True)[:k]\n",
    "    \n",
    "    # Returning the most popular class that appears\n",
    "    most_popular_school = training_copy.groupby('school', as_index = False).count()['school'].mode()[0]\n",
    "    return most_popular_school \n",
    "\n",
    "# For the first datapoint in the testing set, we predicting that the student went to Berkeley\n",
    "example_point = classify(test.values[0], 3, train)\n",
    "example_point"
   ]
  },
  {
   "cell_type": "markdown",
   "id": "7163fdf4-0e0a-49a2-8007-d5f0546a0e4c",
   "metadata": {},
   "source": [
    "Let's apply this function to every row in our dataset!"
   ]
  },
  {
   "cell_type": "code",
   "execution_count": 30,
   "id": "e5cf92da-85f9-4eac-8db6-497b81cb757b",
   "metadata": {
    "scrolled": true
   },
   "outputs": [
    {
     "name": "stderr",
     "output_type": "stream",
     "text": [
      "/var/folders/t4/cy821_y16vq_lg1gqv6hmg9r0000gn/T/ipykernel_19748/917862430.py:5: SettingWithCopyWarning: \n",
      "A value is trying to be set on a copy of a slice from a DataFrame.\n",
      "Try using .loc[row_indexer,col_indexer] = value instead\n",
      "\n",
      "See the caveats in the documentation: https://pandas.pydata.org/pandas-docs/stable/user_guide/indexing.html#returning-a-view-versus-a-copy\n",
      "  test['predicted school'] = predicted_values\n"
     ]
    },
    {
     "data": {
      "text/html": [
       "<div>\n",
       "<style scoped>\n",
       "    .dataframe tbody tr th:only-of-type {\n",
       "        vertical-align: middle;\n",
       "    }\n",
       "\n",
       "    .dataframe tbody tr th {\n",
       "        vertical-align: top;\n",
       "    }\n",
       "\n",
       "    .dataframe thead th {\n",
       "        text-align: right;\n",
       "    }\n",
       "</style>\n",
       "<table border=\"1\" class=\"dataframe\">\n",
       "  <thead>\n",
       "    <tr style=\"text-align: right;\">\n",
       "      <th></th>\n",
       "      <th>latitude</th>\n",
       "      <th>longitude</th>\n",
       "      <th>school</th>\n",
       "      <th>predicted school</th>\n",
       "    </tr>\n",
       "  </thead>\n",
       "  <tbody>\n",
       "    <tr>\n",
       "      <th>83</th>\n",
       "      <td>37.434160</td>\n",
       "      <td>-122.167623</td>\n",
       "      <td>Stanford</td>\n",
       "      <td>Stanford</td>\n",
       "    </tr>\n",
       "    <tr>\n",
       "      <th>53</th>\n",
       "      <td>37.868927</td>\n",
       "      <td>-122.277466</td>\n",
       "      <td>Berkeley</td>\n",
       "      <td>Berkeley</td>\n",
       "    </tr>\n",
       "    <tr>\n",
       "      <th>70</th>\n",
       "      <td>37.868516</td>\n",
       "      <td>-122.271434</td>\n",
       "      <td>Berkeley</td>\n",
       "      <td>Berkeley</td>\n",
       "    </tr>\n",
       "    <tr>\n",
       "      <th>45</th>\n",
       "      <td>37.867164</td>\n",
       "      <td>-122.264062</td>\n",
       "      <td>Berkeley</td>\n",
       "      <td>Berkeley</td>\n",
       "    </tr>\n",
       "    <tr>\n",
       "      <th>44</th>\n",
       "      <td>37.884563</td>\n",
       "      <td>-122.277913</td>\n",
       "      <td>Berkeley</td>\n",
       "      <td>Berkeley</td>\n",
       "    </tr>\n",
       "  </tbody>\n",
       "</table>\n",
       "</div>"
      ],
      "text/plain": [
       "     latitude   longitude    school predicted school\n",
       "83  37.434160 -122.167623  Stanford         Stanford\n",
       "53  37.868927 -122.277466  Berkeley         Berkeley\n",
       "70  37.868516 -122.271434  Berkeley         Berkeley\n",
       "45  37.867164 -122.264062  Berkeley         Berkeley\n",
       "44  37.884563 -122.277913  Berkeley         Berkeley"
      ]
     },
     "execution_count": 30,
     "metadata": {},
     "output_type": "execute_result"
    }
   ],
   "source": [
    "predicted_values = list();\n",
    "for test_row in test.values:\n",
    "    predicted_class = classify(test_row, 3, train)\n",
    "    predicted_values.append(predicted_class)\n",
    "test['predicted school'] = predicted_values\n",
    "test.head()\n",
    "# Ignore if a warning message comes up, it still produced the column we want - scroll down to see it"
   ]
  },
  {
   "cell_type": "markdown",
   "id": "3b175e20-1fd9-4fc2-8746-9885368c2ad3",
   "metadata": {},
   "source": [
    "For the final step, lets calculate how acurate our kNN prediction is!"
   ]
  },
  {
   "cell_type": "code",
   "execution_count": 31,
   "id": "08bf7a7b-8a18-4a04-935f-07606a796ada",
   "metadata": {},
   "outputs": [
    {
     "data": {
      "text/plain": [
       "96.0"
      ]
     },
     "execution_count": 31,
     "metadata": {},
     "output_type": "execute_result"
    }
   ],
   "source": [
    "labels_correct = sum(test['predicted school'] == test['school'])\n",
    "percentage_correct = labels_correct / len(test) * 100\n",
    "percentage_correct"
   ]
  },
  {
   "cell_type": "markdown",
   "id": "370786ec-1ac9-4426-bcfa-1db7afe6333e",
   "metadata": {},
   "source": [
    "**Using this kNN algorithm we acheived a 96% accuracy on the test set!**"
   ]
  },
  {
   "cell_type": "code",
   "execution_count": 32,
   "id": "d2f79aa6",
   "metadata": {},
   "outputs": [
    {
     "name": "stdout",
     "output_type": "stream",
     "text": [
      "Since we have a 96% accuracy on our test set, we know that 96% of these 25 students were accurately labeled.\n"
     ]
    },
    {
     "data": {
      "image/png": "[encoded data removed]",
      "text/plain": [
       "<Figure size 432x288 with 1 Axes>"
      ]
     },
     "metadata": {},
     "output_type": "display_data"
    }
   ],
   "source": [
    "sns.scatterplot(x = 'latitude', y = 'longitude', data = test, hue='predicted school')\n",
    "plt.title('25 Students (Test Set) and The Corresponding Predictions');\n",
    "print(\"Since we have a 96% accuracy on our test set, we know that 96% of these 25 students were accurately labeled.\")"
   ]
  },
  {
   "cell_type": "markdown",
   "id": "6ec4018b-524a-4067-a57a-f21377cd6101",
   "metadata": {},
   "source": [
    "If you're interested in a more specific walkthrough of k-nearest neighbors using a _movie recommendations dataset_, take a look at this [article](https://towardsdatascience.com/machine-learning-basics-with-the-k-nearest-neighbors-algorithm-6a6e71d01761)! The data in the article is available in our directory under `datasets/movies_recommendation_data.csv`, feel free to import and play around with it."
   ]
  },
  {
   "cell_type": "markdown",
   "id": "2895b6ce",
   "metadata": {},
   "source": [
    "### 4.3 K-Nearest Neighbors on *our* Data"
   ]
  },
  {
   "cell_type": "markdown",
   "id": "da1b2c0f",
   "metadata": {},
   "source": [
    "Dr. Hummel's paper outlines her study that \"uses statistical cluster analysis to identify similarities in community exposure to flooding hazards for a suite of sea level rise and storm scenarios.\" kNN is a type of statistical cluster analysis, so we will test it out on our data."
   ]
  },
  {
   "cell_type": "markdown",
   "id": "90ec2f3d",
   "metadata": {},
   "source": [
    "Let's perform k-nearest neighbors on our coastal resilience dataset!"
   ]
  },
  {
   "cell_type": "markdown",
   "id": "c08e1e78",
   "metadata": {},
   "source": [
    "Remember, we're working with the `county_sea_levels` table. Let's take a look at it again:"
   ]
  },
  {
   "cell_type": "code",
   "execution_count": 33,
   "id": "03c27c5c",
   "metadata": {
    "scrolled": true
   },
   "outputs": [
    {
     "data": {
      "text/html": [
       "<div>\n",
       "<style scoped>\n",
       "    .dataframe tbody tr th:only-of-type {\n",
       "        vertical-align: middle;\n",
       "    }\n",
       "\n",
       "    .dataframe tbody tr th {\n",
       "        vertical-align: top;\n",
       "    }\n",
       "\n",
       "    .dataframe thead th {\n",
       "        text-align: right;\n",
       "    }\n",
       "</style>\n",
       "<table border=\"1\" class=\"dataframe\">\n",
       "  <thead>\n",
       "    <tr style=\"text-align: right;\">\n",
       "      <th></th>\n",
       "      <th>Geo_Order</th>\n",
       "      <th>OBJECTID</th>\n",
       "      <th>Community</th>\n",
       "      <th>County</th>\n",
       "      <th>Res_N_0</th>\n",
       "      <th>Res_N_50</th>\n",
       "      <th>Res_N_100</th>\n",
       "      <th>Res_N_150</th>\n",
       "      <th>Res_P_0</th>\n",
       "      <th>Res_P_50</th>\n",
       "      <th>...</th>\n",
       "      <th>FS_N_100</th>\n",
       "      <th>FS_N_150</th>\n",
       "      <th>SC_N_0</th>\n",
       "      <th>SC_N_50</th>\n",
       "      <th>SC_N_100</th>\n",
       "      <th>SC_N_150</th>\n",
       "      <th>MED_N_0</th>\n",
       "      <th>MED_N_50</th>\n",
       "      <th>MED_N_100</th>\n",
       "      <th>MED_N_150</th>\n",
       "    </tr>\n",
       "  </thead>\n",
       "  <tbody>\n",
       "    <tr>\n",
       "      <th>0</th>\n",
       "      <td>34</td>\n",
       "      <td>1</td>\n",
       "      <td>Alameda</td>\n",
       "      <td>Alameda County</td>\n",
       "      <td>0</td>\n",
       "      <td>185</td>\n",
       "      <td>1706</td>\n",
       "      <td>9028</td>\n",
       "      <td>0.0</td>\n",
       "      <td>0.0</td>\n",
       "      <td>...</td>\n",
       "      <td>0</td>\n",
       "      <td>0</td>\n",
       "      <td>0</td>\n",
       "      <td>0</td>\n",
       "      <td>0</td>\n",
       "      <td>4</td>\n",
       "      <td>0</td>\n",
       "      <td>0</td>\n",
       "      <td>0</td>\n",
       "      <td>0</td>\n",
       "    </tr>\n",
       "    <tr>\n",
       "      <th>1</th>\n",
       "      <td>30</td>\n",
       "      <td>2</td>\n",
       "      <td>Albany</td>\n",
       "      <td>Alameda County</td>\n",
       "      <td>0</td>\n",
       "      <td>0</td>\n",
       "      <td>0</td>\n",
       "      <td>0</td>\n",
       "      <td>0.0</td>\n",
       "      <td>0.0</td>\n",
       "      <td>...</td>\n",
       "      <td>0</td>\n",
       "      <td>0</td>\n",
       "      <td>0</td>\n",
       "      <td>0</td>\n",
       "      <td>0</td>\n",
       "      <td>0</td>\n",
       "      <td>0</td>\n",
       "      <td>0</td>\n",
       "      <td>0</td>\n",
       "      <td>0</td>\n",
       "    </tr>\n",
       "    <tr>\n",
       "      <th>2</th>\n",
       "      <td>31</td>\n",
       "      <td>3</td>\n",
       "      <td>Berkeley</td>\n",
       "      <td>Alameda County</td>\n",
       "      <td>0</td>\n",
       "      <td>0</td>\n",
       "      <td>1</td>\n",
       "      <td>5</td>\n",
       "      <td>0.0</td>\n",
       "      <td>0.0</td>\n",
       "      <td>...</td>\n",
       "      <td>0</td>\n",
       "      <td>0</td>\n",
       "      <td>0</td>\n",
       "      <td>0</td>\n",
       "      <td>0</td>\n",
       "      <td>0</td>\n",
       "      <td>0</td>\n",
       "      <td>0</td>\n",
       "      <td>0</td>\n",
       "      <td>0</td>\n",
       "    </tr>\n",
       "    <tr>\n",
       "      <th>3</th>\n",
       "      <td>32</td>\n",
       "      <td>4</td>\n",
       "      <td>Emeryville</td>\n",
       "      <td>Alameda County</td>\n",
       "      <td>0</td>\n",
       "      <td>94</td>\n",
       "      <td>117</td>\n",
       "      <td>146</td>\n",
       "      <td>0.0</td>\n",
       "      <td>0.0</td>\n",
       "      <td>...</td>\n",
       "      <td>0</td>\n",
       "      <td>0</td>\n",
       "      <td>0</td>\n",
       "      <td>0</td>\n",
       "      <td>0</td>\n",
       "      <td>0</td>\n",
       "      <td>0</td>\n",
       "      <td>0</td>\n",
       "      <td>0</td>\n",
       "      <td>0</td>\n",
       "    </tr>\n",
       "    <tr>\n",
       "      <th>4</th>\n",
       "      <td>38</td>\n",
       "      <td>5</td>\n",
       "      <td>Fremont</td>\n",
       "      <td>Alameda County</td>\n",
       "      <td>0</td>\n",
       "      <td>0</td>\n",
       "      <td>0</td>\n",
       "      <td>0</td>\n",
       "      <td>0.0</td>\n",
       "      <td>0.0</td>\n",
       "      <td>...</td>\n",
       "      <td>0</td>\n",
       "      <td>0</td>\n",
       "      <td>0</td>\n",
       "      <td>0</td>\n",
       "      <td>0</td>\n",
       "      <td>0</td>\n",
       "      <td>0</td>\n",
       "      <td>0</td>\n",
       "      <td>0</td>\n",
       "      <td>0</td>\n",
       "    </tr>\n",
       "  </tbody>\n",
       "</table>\n",
       "<p>5 rows × 44 columns</p>\n",
       "</div>"
      ],
      "text/plain": [
       "   Geo_Order  OBJECTID   Community          County  Res_N_0  Res_N_50  \\\n",
       "0         34         1     Alameda  Alameda County        0       185   \n",
       "1         30         2      Albany  Alameda County        0         0   \n",
       "2         31         3    Berkeley  Alameda County        0         0   \n",
       "3         32         4  Emeryville  Alameda County        0        94   \n",
       "4         38         5     Fremont  Alameda County        0         0   \n",
       "\n",
       "   Res_N_100  Res_N_150  Res_P_0  Res_P_50  ...  FS_N_100  FS_N_150  SC_N_0  \\\n",
       "0       1706       9028      0.0       0.0  ...         0         0       0   \n",
       "1          0          0      0.0       0.0  ...         0         0       0   \n",
       "2          1          5      0.0       0.0  ...         0         0       0   \n",
       "3        117        146      0.0       0.0  ...         0         0       0   \n",
       "4          0          0      0.0       0.0  ...         0         0       0   \n",
       "\n",
       "   SC_N_50  SC_N_100  SC_N_150  MED_N_0  MED_N_50  MED_N_100  MED_N_150  \n",
       "0        0         0         4        0         0          0          0  \n",
       "1        0         0         0        0         0          0          0  \n",
       "2        0         0         0        0         0          0          0  \n",
       "3        0         0         0        0         0          0          0  \n",
       "4        0         0         0        0         0          0          0  \n",
       "\n",
       "[5 rows x 44 columns]"
      ]
     },
     "execution_count": 33,
     "metadata": {},
     "output_type": "execute_result"
    }
   ],
   "source": [
    "county_sea_levels.head() #.head() shows first 5 rows"
   ]
  },
  {
   "cell_type": "markdown",
   "id": "97e4b684",
   "metadata": {},
   "source": [
    "### Splitting the dataset\n",
    "Next, we'll want to split up the dataset. We're going to do 2 different kinds of things with it:\n",
    "1. We'll build a classifier using qualities we know for the associated label; this will teach it to recognize labels of similar given values. This process is known as *training*.\n",
    "2. We'll evaluate or *test* the accuracy of the classifier we build on data we haven't seen before.\n",
    "\n",
    "We want to use separate datasets for these two purposes to avoid _overfitting_, which is where a machine learning model fits its training data too well and fails to reliably fit additional new/unseen data.\n",
    "\n",
    "We'll use the sklearn function `train_test_split` to do this: it splits arrays or matrices into random train and test subsets. Read more about it [here](https://scikit-learn.org/stable/modules/generated/sklearn.model_selection.train_test_split.html)."
   ]
  },
  {
   "cell_type": "code",
   "execution_count": 34,
   "id": "bc967313",
   "metadata": {},
   "outputs": [],
   "source": [
    "county_train, county_test = train_test_split(county_sea_levels, test_size=0.2, random_state = 42)"
   ]
  },
  {
   "cell_type": "code",
   "execution_count": 35,
   "id": "708fda4b",
   "metadata": {
    "scrolled": true
   },
   "outputs": [
    {
     "name": "stdout",
     "output_type": "stream",
     "text": [
      "Number of rows and columns of training set:  (50, 44)\n",
      "Number of rows and columns of test set:  (13, 44)\n"
     ]
    }
   ],
   "source": [
    "print(\"Number of rows and columns of training set: \", county_train.shape)\n",
    "print(\"Number of rows and columns of test set: \", county_test.shape)"
   ]
  },
  {
   "cell_type": "markdown",
   "id": "e95b7d67",
   "metadata": {},
   "source": [
    "**Why do we divide our data into a training and test set? What is the point of a test set, and why do we only want to use the test set once?**"
   ]
  },
  {
   "cell_type": "markdown",
   "id": "7a4569c8",
   "metadata": {},
   "source": [
    "***Replace this with your answer*** (double-click to edit)"
   ]
  },
  {
   "cell_type": "markdown",
   "id": "1c2a9c74",
   "metadata": {},
   "source": [
    "Now that we split our data, let's begin classifying the test data! We're using the same kNN algorithm that we used above for the Berkeley/Stanford dataset. Instead of latitude and longitude, we're using the number of residents in a certain community that has 150 cm of SLR and the GeoOrder to predict what county the zone is in."
   ]
  },
  {
   "cell_type": "markdown",
   "id": "960a7938-18c1-4aba-b67d-af4e2707be82",
   "metadata": {},
   "source": [
    "Let's define a classification function, just like in the Stanford/Berkeley example, but for the `county_sea_levels` dataset."
   ]
  },
  {
   "cell_type": "code",
   "execution_count": 36,
   "id": "f55b5f6d",
   "metadata": {},
   "outputs": [
    {
     "data": {
      "text/plain": [
       "'Alameda County'"
      ]
     },
     "execution_count": 36,
     "metadata": {},
     "output_type": "execute_result"
    }
   ],
   "source": [
    "def classify(test_row, k, train):\n",
    "    # Creating a list to keep all the distances between each point\n",
    "    distances = list()\n",
    "    \n",
    "    # Calculating the distances\n",
    "    for train_row in train[['Geo_Order', 'Res_N_150']].values:\n",
    "        test_row_features = test_row[[0, 1]]\n",
    "        row_distances = distance.euclidean(train_row, test_row_features)\n",
    "        distances.append(row_distances)\n",
    "    training_copy = train.copy()\n",
    "    training_copy['Distances'] = distances \n",
    "    \n",
    "    # Finding the points that are closest \n",
    "    training_copy = training_copy.sort_values('Distances', ascending = True)[:k]\n",
    "    \n",
    "    # Returning the most popular category (county) of the close points  \n",
    "    most_popular_county = training_copy.groupby('County', as_index = False).count()['County'].mode()[0]\n",
    "    return most_popular_county \n",
    "\n",
    "# For the first datapoint in the testing set, we predict that the zone is in Alameda County\n",
    "county_first_point = classify(county_sea_levels.values[0], 3, county_train) # pick k = 3\n",
    "county_first_point"
   ]
  },
  {
   "cell_type": "markdown",
   "id": "466c132a",
   "metadata": {},
   "source": [
    "**Generally, we pick an odd-numbered `k` in k-NN. Why do you think that is?**"
   ]
  },
  {
   "cell_type": "markdown",
   "id": "3e96b6c8",
   "metadata": {},
   "source": [
    "***Replace this with your answer*** (double-click to edit)"
   ]
  },
  {
   "cell_type": "markdown",
   "id": "a07e1e2f",
   "metadata": {},
   "source": [
    "Now, let's run our 3-nearest neighbors classifier function on each row in the test set. We can append each result to the empty list `predicted_counties` and add it to the end of the `county_test` dataframe to see the results.\n",
    "\n",
    "*Note: Usually before using a classifier on a test set, we'd classify first on a \"validation\" set. Then, we can modify our model parameters again if need be, before actually testing on the test set. You don’t need to do that for this question, but keep it in mind!*"
   ]
  },
  {
   "cell_type": "code",
   "execution_count": 37,
   "id": "b2c4ac7b",
   "metadata": {},
   "outputs": [
    {
     "name": "stderr",
     "output_type": "stream",
     "text": [
      "/var/folders/t4/cy821_y16vq_lg1gqv6hmg9r0000gn/T/ipykernel_19748/1120645293.py:7: SettingWithCopyWarning: \n",
      "A value is trying to be set on a copy of a slice from a DataFrame.\n",
      "Try using .loc[row_indexer,col_indexer] = value instead\n",
      "\n",
      "See the caveats in the documentation: https://pandas.pydata.org/pandas-docs/stable/user_guide/indexing.html#returning-a-view-versus-a-copy\n",
      "  county_test['Predicted County'] = predicted_counties\n"
     ]
    },
    {
     "data": {
      "text/html": [
       "<div>\n",
       "<style scoped>\n",
       "    .dataframe tbody tr th:only-of-type {\n",
       "        vertical-align: middle;\n",
       "    }\n",
       "\n",
       "    .dataframe tbody tr th {\n",
       "        vertical-align: top;\n",
       "    }\n",
       "\n",
       "    .dataframe thead th {\n",
       "        text-align: right;\n",
       "    }\n",
       "</style>\n",
       "<table border=\"1\" class=\"dataframe\">\n",
       "  <thead>\n",
       "    <tr style=\"text-align: right;\">\n",
       "      <th></th>\n",
       "      <th>Geo_Order</th>\n",
       "      <th>OBJECTID</th>\n",
       "      <th>Community</th>\n",
       "      <th>County</th>\n",
       "      <th>Res_N_0</th>\n",
       "      <th>Res_N_50</th>\n",
       "      <th>Res_N_100</th>\n",
       "      <th>Res_N_150</th>\n",
       "      <th>Res_P_0</th>\n",
       "      <th>Res_P_50</th>\n",
       "      <th>...</th>\n",
       "      <th>FS_N_150</th>\n",
       "      <th>SC_N_0</th>\n",
       "      <th>SC_N_50</th>\n",
       "      <th>SC_N_100</th>\n",
       "      <th>SC_N_150</th>\n",
       "      <th>MED_N_0</th>\n",
       "      <th>MED_N_50</th>\n",
       "      <th>MED_N_100</th>\n",
       "      <th>MED_N_150</th>\n",
       "      <th>Predicted County</th>\n",
       "    </tr>\n",
       "  </thead>\n",
       "  <tbody>\n",
       "    <tr>\n",
       "      <th>61</th>\n",
       "      <td>11</td>\n",
       "      <td>62</td>\n",
       "      <td>Petaluma</td>\n",
       "      <td>Sonoma County</td>\n",
       "      <td>0</td>\n",
       "      <td>76</td>\n",
       "      <td>297</td>\n",
       "      <td>315</td>\n",
       "      <td>0.0</td>\n",
       "      <td>0.0</td>\n",
       "      <td>...</td>\n",
       "      <td>0</td>\n",
       "      <td>0</td>\n",
       "      <td>0</td>\n",
       "      <td>1</td>\n",
       "      <td>1</td>\n",
       "      <td>0</td>\n",
       "      <td>0</td>\n",
       "      <td>0</td>\n",
       "      <td>0</td>\n",
       "      <td>Contra Costa County</td>\n",
       "    </tr>\n",
       "    <tr>\n",
       "      <th>57</th>\n",
       "      <td>18</td>\n",
       "      <td>58</td>\n",
       "      <td>Fairfield</td>\n",
       "      <td>Solano County</td>\n",
       "      <td>0</td>\n",
       "      <td>0</td>\n",
       "      <td>0</td>\n",
       "      <td>0</td>\n",
       "      <td>0.0</td>\n",
       "      <td>0.0</td>\n",
       "      <td>...</td>\n",
       "      <td>0</td>\n",
       "      <td>0</td>\n",
       "      <td>0</td>\n",
       "      <td>0</td>\n",
       "      <td>0</td>\n",
       "      <td>0</td>\n",
       "      <td>0</td>\n",
       "      <td>0</td>\n",
       "      <td>0</td>\n",
       "      <td>Contra Costa County</td>\n",
       "    </tr>\n",
       "    <tr>\n",
       "      <th>0</th>\n",
       "      <td>34</td>\n",
       "      <td>1</td>\n",
       "      <td>Alameda</td>\n",
       "      <td>Alameda County</td>\n",
       "      <td>0</td>\n",
       "      <td>185</td>\n",
       "      <td>1706</td>\n",
       "      <td>9028</td>\n",
       "      <td>0.0</td>\n",
       "      <td>0.0</td>\n",
       "      <td>...</td>\n",
       "      <td>0</td>\n",
       "      <td>0</td>\n",
       "      <td>0</td>\n",
       "      <td>0</td>\n",
       "      <td>4</td>\n",
       "      <td>0</td>\n",
       "      <td>0</td>\n",
       "      <td>0</td>\n",
       "      <td>0</td>\n",
       "      <td>Alameda County</td>\n",
       "    </tr>\n",
       "    <tr>\n",
       "      <th>43</th>\n",
       "      <td>51</td>\n",
       "      <td>44</td>\n",
       "      <td>Redwood City</td>\n",
       "      <td>San Mateo County</td>\n",
       "      <td>0</td>\n",
       "      <td>12007</td>\n",
       "      <td>14461</td>\n",
       "      <td>20057</td>\n",
       "      <td>0.0</td>\n",
       "      <td>0.2</td>\n",
       "      <td>...</td>\n",
       "      <td>3</td>\n",
       "      <td>0</td>\n",
       "      <td>4</td>\n",
       "      <td>4</td>\n",
       "      <td>6</td>\n",
       "      <td>0</td>\n",
       "      <td>2</td>\n",
       "      <td>2</td>\n",
       "      <td>8</td>\n",
       "      <td>San Mateo County</td>\n",
       "    </tr>\n",
       "    <tr>\n",
       "      <th>5</th>\n",
       "      <td>36</td>\n",
       "      <td>6</td>\n",
       "      <td>Hayward</td>\n",
       "      <td>Alameda County</td>\n",
       "      <td>0</td>\n",
       "      <td>969</td>\n",
       "      <td>1173</td>\n",
       "      <td>2658</td>\n",
       "      <td>0.0</td>\n",
       "      <td>0.0</td>\n",
       "      <td>...</td>\n",
       "      <td>0</td>\n",
       "      <td>0</td>\n",
       "      <td>0</td>\n",
       "      <td>0</td>\n",
       "      <td>0</td>\n",
       "      <td>0</td>\n",
       "      <td>0</td>\n",
       "      <td>0</td>\n",
       "      <td>1</td>\n",
       "      <td>Alameda County</td>\n",
       "    </tr>\n",
       "  </tbody>\n",
       "</table>\n",
       "<p>5 rows × 45 columns</p>\n",
       "</div>"
      ],
      "text/plain": [
       "    Geo_Order  OBJECTID     Community            County  Res_N_0  Res_N_50  \\\n",
       "61         11        62      Petaluma     Sonoma County        0        76   \n",
       "57         18        58     Fairfield     Solano County        0         0   \n",
       "0          34         1       Alameda    Alameda County        0       185   \n",
       "43         51        44  Redwood City  San Mateo County        0     12007   \n",
       "5          36         6       Hayward    Alameda County        0       969   \n",
       "\n",
       "    Res_N_100  Res_N_150  Res_P_0  Res_P_50  ...  FS_N_150  SC_N_0  SC_N_50  \\\n",
       "61        297        315      0.0       0.0  ...         0       0        0   \n",
       "57          0          0      0.0       0.0  ...         0       0        0   \n",
       "0        1706       9028      0.0       0.0  ...         0       0        0   \n",
       "43      14461      20057      0.0       0.2  ...         3       0        4   \n",
       "5        1173       2658      0.0       0.0  ...         0       0        0   \n",
       "\n",
       "    SC_N_100  SC_N_150  MED_N_0  MED_N_50  MED_N_100  MED_N_150  \\\n",
       "61         1         1        0         0          0          0   \n",
       "57         0         0        0         0          0          0   \n",
       "0          0         4        0         0          0          0   \n",
       "43         4         6        0         2          2          8   \n",
       "5          0         0        0         0          0          1   \n",
       "\n",
       "       Predicted County  \n",
       "61  Contra Costa County  \n",
       "57  Contra Costa County  \n",
       "0        Alameda County  \n",
       "43     San Mateo County  \n",
       "5        Alameda County  \n",
       "\n",
       "[5 rows x 45 columns]"
      ]
     },
     "execution_count": 37,
     "metadata": {},
     "output_type": "execute_result"
    }
   ],
   "source": [
    "predicted_counties = list()\n",
    "\n",
    "for test_row in county_test.values:\n",
    "    predicted_county = classify(test_row, 3, county_train)\n",
    "    predicted_counties.append(predicted_county)\n",
    "\n",
    "county_test['Predicted County'] = predicted_counties \n",
    "county_test.head()\n",
    "\n",
    "# Ignore any warning message"
   ]
  },
  {
   "cell_type": "markdown",
   "id": "49e8eb02",
   "metadata": {},
   "source": [
    "### 4.4 Accuracy"
   ]
  },
  {
   "cell_type": "markdown",
   "id": "0c92da10",
   "metadata": {},
   "source": [
    "Finally, let's see how accurate our classifier was! Accuracy is a proportion of the counties that were correctly predicted, so let's find the number of counties where the `Predicted County` matched the actual `County` and divide that by the number of rows in the test set."
   ]
  },
  {
   "cell_type": "code",
   "execution_count": 38,
   "id": "99c3970b",
   "metadata": {},
   "outputs": [
    {
     "data": {
      "text/plain": [
       "0.5384615384615384"
      ]
     },
     "execution_count": 38,
     "metadata": {},
     "output_type": "execute_result"
    }
   ],
   "source": [
    "labels_correct = sum(county_test['Predicted County'] == county_test['County'])\n",
    "accuracy = labels_correct / len(county_test)\n",
    "accuracy"
   ]
  },
  {
   "cell_type": "markdown",
   "id": "0b21a33e-ed30-46ae-9718-03639aacfb2c",
   "metadata": {},
   "source": [
    "Using this kNN algorithm we acheived a 54% accuracy on the test set."
   ]
  },
  {
   "cell_type": "code",
   "execution_count": 39,
   "id": "92712f2a-7308-457f-aea9-7059403032ae",
   "metadata": {},
   "outputs": [
    {
     "name": "stdout",
     "output_type": "stream",
     "text": [
      "Since we have a 54% accuracy on our test set, we know that 54% of these zones were accurately labeled.\n"
     ]
    },
    {
     "data": {
      "image/png": "[encoded data removed]",
      "text/plain": [
       "<Figure size 432x288 with 1 Axes>"
      ]
     },
     "metadata": {},
     "output_type": "display_data"
    }
   ],
   "source": [
    "sns.scatterplot(x = 'Geo_Order', y = 'Res_N_150', data = county_test, hue= 'Predicted County')\n",
    "plt.title('Test Set of Zones and The Corresponding Predicted Counties');\n",
    "print(\"Since we have a 54% accuracy on our test set, we know that 54% of these zones were accurately labeled.\")\n",
    "plt.legend(bbox_to_anchor=(1.05, 1), loc='upper left', borderaxespad=0); #moves legend to the right"
   ]
  },
  {
   "cell_type": "markdown",
   "id": "933e68c8-30f6-4cca-a2bf-eb2d001873c9",
   "metadata": {},
   "source": [
    "To compare..."
   ]
  },
  {
   "cell_type": "code",
   "execution_count": 40,
   "id": "36f07b86-3b18-4a84-97b4-1e95bd32e201",
   "metadata": {},
   "outputs": [
    {
     "data": {
      "image/png": "[encoded data removed]",
      "text/plain": [
       "<Figure size 432x288 with 1 Axes>"
      ]
     },
     "metadata": {},
     "output_type": "display_data"
    }
   ],
   "source": [
    "sns.scatterplot(x = 'Geo_Order', y = 'Res_N_150', data = county_test, hue= 'County');\n",
    "plt.title('Test Set of Zones and Their Actual Counties');\n",
    "plt.legend(bbox_to_anchor=(1.05, 1), loc='upper left', borderaxespad=0); #moves legend to the right\n"
   ]
  },
  {
   "cell_type": "markdown",
   "id": "06e97873-f98f-442b-a61c-6f1ed21f20a2",
   "metadata": {},
   "source": [
    "## 4.5 kNN vs. PAM Algorithm"
   ]
  },
  {
   "cell_type": "markdown",
   "id": "59de371b-3a7c-49f7-a093-fd3c1352572c",
   "metadata": {},
   "source": [
    "As I'm sure you noticed, 54% is a pretty low classification accuracy. The kNN algorithm classified a bit over half of our test set correctly. \n",
    "\n",
    "In Dr. Hummel's paper, they used the [PAM Algorithm](https://en.wikibooks.org/wiki/Data_Mining_Algorithms_In_R/Clustering/Partitioning_Around_Medoids_(PAM)) and analyzed a combination of all the variables collected. **kNN doesn't allow us to use more than two variables for prediction and they must also be numerical.** We used kNN to show how cluster analysis works in a simpler method; an example that still predicts reasonably well, but not accurately enough to be reliable. \n",
    "\n",
    "Dr. Hummel discusses his methods in his paper:"
   ]
  },
  {
   "cell_type": "markdown",
   "id": "8b65b18e-2397-421f-bf80-18238b76991c",
   "metadata": {},
   "source": [
    "> \"Understanding a community’s vulnerability to climate-driven hazards can be a complex undertaking, but a common first step to support more in-depth analyses is an estimation of its hazard exposure and sensitivity based on the **integration of hazard scenarios with infrastructure and socioeconomic data** (e.g., Frazier et al. 2010; Wu et al. 2002; Strauss et al. 2012; Schweikert et al. 2015; Abdollahian et al. 2016; Paprotny and Terefenko 2017). The relative vulnerability of multiple communities then can be characterized using comparative metrics, such as indices based on principal component analysis (e.g., Cutter et al. 2003; Wood et al. 2010; Nelson et al. 2010). Although useful for discussing vulnerability across a region, single numerical indices have limited utility for partnership development since results may focus attention only on highly ranked jurisdictions, as well as overlook the factors that create vulnerability and their interrelationships (Sharma and Patwardhan 2008). Additionally, **single metric rankings may miss similarities that communities share if they are not wholly similar.** Other quantitative methods, such as cluster analysis, can be used to identify groupings of communities based on similar vulnerability characteristics (e.g., Wood et al. 2015) and may therefore be better suited for identifying potential partners in climate-change adaptation.\"\n",
    "… \n",
    "\n",
    ">\"**Geospatial data summarizing various population, business, and infrastructure indicators were used to estimate community exposure to a given hazard zone in Jones et al. (2016).** Residential populations were estimated using block-level population counts compiled for the 2010 US Census (U.S. Census Bureau 2010). Demographic factors, such as age, ethnicity, and tenancy, can amplify an individual’s sensitivity to hazards (Morrow 1999; Fothergill et al. 1999; Burby et al. 2003; Wood et al. 2012); therefore, the 2010 block-level data were used to estimate demographic attributes related to these socio-economic indicators of sensitivity, including ethnicity (Hispanic or Latino), non-White race (American Indian and Alaska Native, Asian, Black or African-American, Native Hawaiian and other Pacific Islander), age (individuals less than 5 and more than 65 years in age), tenancy (renter-occupied households), and group quarters (institutionalized, such as correctional facilities or nursing homes, and non-institutionalized, such as dormitories or military barracks).\""
   ]
  },
  {
   "cell_type": "markdown",
   "id": "b3a9a58b",
   "metadata": {},
   "source": [
    "**What are some differences between the ways we classified counties and the ways Dr. Hummel classified communities?**"
   ]
  },
  {
   "cell_type": "markdown",
   "id": "215b460c",
   "metadata": {},
   "source": [
    "***Replace this with your answer*** (double-click to edit)"
   ]
  },
  {
   "cell_type": "markdown",
   "id": "d93e6f31",
   "metadata": {
    "tags": []
   },
   "source": [
    "# 5. SLR vs. Number of Residents <a id='4'></a>\n"
   ]
  },
  {
   "cell_type": "markdown",
   "id": "f66a771a-217a-4303-b7fa-566ae8d86821",
   "metadata": {},
   "source": [
    "### 5.1 Preparing the DataFrame"
   ]
  },
  {
   "cell_type": "markdown",
   "id": "4124697f-df51-405b-b958-79a3f173f923",
   "metadata": {},
   "source": [
    "Recall the variables of the `county_sea_levels` DataFrame."
   ]
  },
  {
   "cell_type": "code",
   "execution_count": 41,
   "id": "70d1bc24-2bea-4a8e-93c6-49229f32603e",
   "metadata": {},
   "outputs": [
    {
     "data": {
      "text/plain": [
       "array(['Geo_Order', 'OBJECTID', 'Community', 'County', 'Res_N_0',\n",
       "       'Res_N_50', 'Res_N_100', 'Res_N_150', 'Res_P_0', 'Res_P_50',\n",
       "       'Res_P_100', 'Res_P_150', 'Emp_N_0', 'Emp_N_50', 'Emp_N_100',\n",
       "       'Emp_N_150', 'Emp_P_0', 'Emp_P_50', 'Emp_P_100', 'Emp_P_150',\n",
       "       'HW_L_0', 'HW_L_50', 'HW_L_100', 'HW_L_150', 'RR_L_0', 'RR_L_50',\n",
       "       'RR_L_100', 'RR_L_150', 'PS_N_0', 'PS_N_50', 'PS_N_100', 'PS_N_150',\n",
       "       'FS_N_0', 'FS_N_50', 'FS_N_100', 'FS_N_150', 'SC_N_0', 'SC_N_50',\n",
       "       'SC_N_100', 'SC_N_150', 'MED_N_0', 'MED_N_50', 'MED_N_100',\n",
       "       'MED_N_150'], dtype=object)"
      ]
     },
     "execution_count": 41,
     "metadata": {},
     "output_type": "execute_result"
    }
   ],
   "source": [
    "county_sea_levels.columns.values"
   ]
  },
  {
   "cell_type": "markdown",
   "id": "7f242b2d-34e7-4eef-b59d-20dea4b540da",
   "metadata": {},
   "source": [
    "Unfortunately for us, none of these columns represent the total residents in the zone. We will make one! This is done by adding the number of residents that fall into each SLR category."
   ]
  },
  {
   "cell_type": "code",
   "execution_count": 42,
   "id": "7cabf646-9067-4da7-a7ec-59c06347ec96",
   "metadata": {},
   "outputs": [],
   "source": [
    "slr_and_demo['Total Residents'] = slr_and_demo['Res_N_0']+slr_and_demo['Res_N_50']+slr_and_demo['Res_N_100']+ slr_and_demo['Res_N_150']"
   ]
  },
  {
   "cell_type": "markdown",
   "id": "b33b9648-16f4-41c6-b850-d58bd8579e40",
   "metadata": {},
   "source": [
    "### 5.2 Visualizing with `sns.lineplot`"
   ]
  },
  {
   "cell_type": "markdown",
   "id": "44c64219-a774-4ab8-a830-37392022359d",
   "metadata": {},
   "source": [
    "Now let's use `sns.lineplot` to plot the Number of Residents in the zone with __ cm of SLR vs. the Total Number of Residents in the Zone. The legend in graph indicates which color line represents which level of SLR."
   ]
  },
  {
   "cell_type": "code",
   "execution_count": 43,
   "id": "bceb0d32-2124-47cc-88d6-de3f705e2afe",
   "metadata": {},
   "outputs": [
    {
     "data": {
      "image/png": "[encoded data removed]",
      "text/plain": [
       "<Figure size 432x288 with 1 Axes>"
      ]
     },
     "metadata": {},
     "output_type": "display_data"
    }
   ],
   "source": [
    "sns.lineplot(x= 'Res_N_0', y = 'Total Residents', data = slr_and_demo, label = 'Res_N_0')\n",
    "sns.lineplot(x= 'Res_N_50', y = 'Total Residents',data = slr_and_demo, label = 'Res_N_50')\n",
    "sns.lineplot(x= 'Res_N_100', y = 'Total Residents',data = slr_and_demo, label = 'Res_N_100')\n",
    "sns.lineplot(x= 'Res_N_150', y = 'Total Residents', data = slr_and_demo, label = 'Res_N_150')\n",
    "plt.xlabel(\"Number of Residents with __ cm of SLR\")\n",
    "plt.title(\"Number of Residents in the zone with __ cm of SLR vs. the Total Number of Residents in the Zone\")\n",
    "label = 'Res_N_0';"
   ]
  },
  {
   "cell_type": "markdown",
   "id": "b4c439c9",
   "metadata": {},
   "source": [
    "**Make observations about this lineplot.**"
   ]
  },
  {
   "cell_type": "markdown",
   "id": "727b1d99",
   "metadata": {},
   "source": [
    "***Replace this with your answer*** (double-click to edit)"
   ]
  },
  {
   "cell_type": "markdown",
   "id": "5aa4d14b-cf68-4031-b235-10dd4edb3782",
   "metadata": {},
   "source": [
    "### 5.3 Practicing Prediction"
   ]
  },
  {
   "cell_type": "markdown",
   "id": "fa033b08-3966-402b-a389-da5f36b047bb",
   "metadata": {},
   "source": [
    "**Make a descriptive prediction about where a line would fall for Res_N_200. Give some example points that would be on your Res_N_200 line.**"
   ]
  },
  {
   "cell_type": "markdown",
   "id": "ea4a9ae9-5319-4279-81e5-485d123369a9",
   "metadata": {},
   "source": [
    "***Replace this with your answer*** (double-click to edit)"
   ]
  },
  {
   "cell_type": "markdown",
   "id": "0f61d16b",
   "metadata": {},
   "source": [
    "# 6. Conclusion  <a id='5'></a>\n"
   ]
  },
  {
   "cell_type": "markdown",
   "id": "c651b753",
   "metadata": {},
   "source": [
    "In this notebook you learned:\n",
    "* Data Pre-Processing/Cleaning\n",
    "* One-Hot Encoding\n",
    "* Developing a K-Nearest Neighbors Classification Algorithm\n",
    "* Using kNN to Simulate Classification in Dr. Hummel's Paper\n",
    "* Creating Visualizations for K-Nearest Neighbors\n",
    "* Comparing Clustering Techniques\n",
    "* Visual Prediction"
   ]
  },
  {
   "cell_type": "markdown",
   "id": "106028da",
   "metadata": {},
   "source": [
    "**Based on what you've learned in this notebook, are there strong spatial or demographic inequities in coastal sea-level rise along Bay Area coastlines?**"
   ]
  },
  {
   "cell_type": "markdown",
   "id": "61f6c01e",
   "metadata": {},
   "source": [
    "***Replace this with your answer*** (double-click to edit)"
   ]
  },
  {
   "cell_type": "markdown",
   "id": "521baefa",
   "metadata": {},
   "source": [
    "<br>\n",
    "\n",
    "### Congratulations on completing the notebook!"
   ]
  },
  {
   "cell_type": "markdown",
   "id": "bc4f0907",
   "metadata": {
    "jp-MarkdownHeadingCollapsed": true,
    "tags": []
   },
   "source": [
    "\n",
    "# 7. Explore Data Science Opportunities  <a id='6'></a>\n",
    "\n",
    "Interested in learning more about how to get involved in data science or learn about data science applications in Civil Engineering? The following resources might help support your learning:\n",
    "\n",
    "---\n",
    "\n",
    "- Data Science Modules: http://data.berkeley.edu/education/modules\n",
    "\n",
    "- Data Science Offerings at Berkeley: https://data.berkeley.edu/academics/undergraduate-programs/data-science-offerings\n",
    "- Data Science for Smart Cities (CIVENG 88); offered in Spring 2023, 2 units: https://classes.berkeley.edu/content/2023-spring-civeng-c88-001-lec-001\n",
    "\n",
    "- Data 8 Course Information: http://data8.org/\n",
    "\n",
    "- Data 100 Course Information: https://ds100.org/\n"
   ]
  },
  {
   "cell_type": "markdown",
   "id": "3938db15",
   "metadata": {},
   "source": [
    "\n",
    "# 8. Feedback Form <a id='7'></a>\n",
    "\n",
    "<div class=\"alert alert-info\">\n",
    "<b> We encourage students to fill out the following feedback form to share your experience with this Module notebook. This feedback form will take no longer than 5 minutes. At UC Berkeley Data Science Undergraduate Studies Modules, we appreciate all feedback to improve the learning of students and experience utilizing Jupyter Notebooks for Data Science Education: </b> \n",
    "</div>\n",
    "\n",
    "## [UC Berkeley Data Science Feedback Form](https://forms.gle/hipxf2uFw5Ud4Hyn8)"
   ]
  },
  {
   "cell_type": "code",
   "execution_count": null,
   "id": "82a7ae2e",
   "metadata": {},
   "outputs": [],
   "source": []
  }
 ],
 "metadata": {
  "kernelspec": {
   "display_name": "Python 3 (ipykernel)",
   "language": "python",
   "name": "python3"
  },
  "language_info": {
   "codemirror_mode": {
    "name": "ipython",
    "version": 3
   },
   "file_extension": ".py",
   "mimetype": "text/x-python",
   "name": "python",
   "nbconvert_exporter": "python",
   "pygments_lexer": "ipython3",
   "version": "3.9.7"
  }
 },
 "nbformat": 4,
 "nbformat_minor": 5
}
